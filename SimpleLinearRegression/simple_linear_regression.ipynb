{
 "cells": [
  {
   "cell_type": "markdown",
   "id": "d3148a1d",
   "metadata": {},
   "source": [
    "# Simple Linear Regression from Scrach in Python\n",
    "\n",
    "In the Jupyter Notebook, a simple linear regression machine learning algorithm using Python programming is implemented from scratch for educational purposes. The linear regression model makes predictions about a person's salary. If an employee has more experience, the higher output salary is predicted from the model. The less experience an employee has, the lower the salary output prediction from the model. The ScikitLearn machine learning library with NumPy, Matplotlib, Pandas and Scipy has been used to pre-process the data and evaluate performance metrics from the linear regression model.\n",
    "\n",
    "The ScikitLearn linear regression algorithm has been implemented at the end of the Jupyter Notebook to compare the evaluation test results against the Python simple linear regression algorithm.\n",
    "\n",
    "Although this is a very small dataset for a statistical model to make predictions on, it provides an introduction to machine learning algorithms and automatic differentiation. A larger dataset may return missing values (NaN) as output predictions over other simple linear regression algorithms written in software using well-optimised machine learning libraries such as ScikitLearn, Pytorch or TensorFlow. Larger datasets require optimised data loading software that is not added to the simple linear regression model object to reduce code complexity for educational purposes."
   ]
  },
  {
   "cell_type": "markdown",
   "id": "f66f28c0",
   "metadata": {},
   "source": [
    "# 1. SImple Linear Regression Object"
   ]
  },
  {
   "cell_type": "code",
   "execution_count": 1,
   "id": "edc2ac35",
   "metadata": {},
   "outputs": [],
   "source": [
    "# Imports the NumPy library to use in the Jupyter Notebook\n",
    "import numpy as np\n",
    " \n",
    "# Simple Linear Regression Pyhton class object\n",
    "class SimpleLinearRegression:\n",
    "    \n",
    "    \"\"\"Linear Regression (LR) model in Python from scratch.\n",
    "       The code comments throughout the LR model explain the code.\n",
    "       x: features from the dataset\n",
    "       y: prediction targets from the dataset\n",
    "       Learning Rate (lr), default setting 0.01\n",
    "       Number of Iterations (n_iters), default setting 1000\n",
    "       lr and n_iters can be set as hyperparameters to train the \n",
    "       Simple Linear Regression model.\n",
    "    \"\"\"\n",
    "\n",
    "    # Simple Linear Regression Python object constructor\n",
    "    def __init__(self, x , y, lr=0.01, n_iters=1000):\n",
    "        self.features = x              # Stores features from the dataset   \n",
    "        self.target = y                # Stores the target y from the dataset\n",
    "        self.lr = lr                   # Learning rate\n",
    "        self.n_iters =n_iters          # Number of iterations\n",
    "        self.weights = 0               # Initialises the weights to 0\n",
    "        self.bias = 0                  # Initialises the bias to 0\n",
    "        self.n_samples = len(x)        # Sets the number of samples to the length\n",
    "         \n",
    "    # Python method to fit the data to the Linear Regression model\n",
    "    def fit(self):\n",
    "        \n",
    "        \"\"\"Python fit method to fit the training data to the LR model.\n",
    "           The training data is passed through the LR model in the forward\n",
    "           and backward pass directions because gradient descent adjusts the\n",
    "           weight parameters during training to train the model\"\"\"\n",
    "         \n",
    "        # Gradient Descent implementation\n",
    "        for i in range(self.n_iters):\n",
    "            \n",
    "            # Stores the predictions of the LR model during training\n",
    "            y_pred = self.weights * self.features + self.bias\n",
    "             \n",
    "            # Stores the weights and the bias of the LR model after calculation\n",
    "            dw = (-2/self.n_samples)*sum(self.features * (self.target - y_pred))\n",
    "            db = (-1/self.n_samples)*sum(self.target-y_pred)\n",
    "             \n",
    "            # Updates the weights and the bias of the LR during training\n",
    "            self.weights = self.weights - self.lr * dw\n",
    "            self.bias = self.bias - self.lr * db\n",
    "             \n",
    "    # Python predict method for the LR algorithm\n",
    "    def predict(self , X):\n",
    "        \n",
    "        \"\"\"Python predict method to run the test data through the model in the \n",
    "           forward pass direction only during inference mode\"\"\"\n",
    "        \n",
    "        # Stores the prediction from the LR model\n",
    "        y_pred = self.weights * X + self.bias\n",
    "        \n",
    "        # Returns the prediction made from the LR model\n",
    "        return y_pred"
   ]
  },
  {
   "cell_type": "markdown",
   "id": "23391862",
   "metadata": {},
   "source": [
    "# 2. Load the Dataset\n",
    "\n",
    "Dataset Available from Kaggle:\n",
    "\n",
    "https://www.kaggle.com/datasets/abhishek14398/salary-dataset-simple-linear-regression"
   ]
  },
  {
   "cell_type": "code",
   "execution_count": 2,
   "id": "952284f7",
   "metadata": {},
   "outputs": [
    {
     "data": {
      "text/html": [
       "<div>\n",
       "<style scoped>\n",
       "    .dataframe tbody tr th:only-of-type {\n",
       "        vertical-align: middle;\n",
       "    }\n",
       "\n",
       "    .dataframe tbody tr th {\n",
       "        vertical-align: top;\n",
       "    }\n",
       "\n",
       "    .dataframe thead th {\n",
       "        text-align: right;\n",
       "    }\n",
       "</style>\n",
       "<table border=\"1\" class=\"dataframe\">\n",
       "  <thead>\n",
       "    <tr style=\"text-align: right;\">\n",
       "      <th></th>\n",
       "      <th>Unnamed: 0</th>\n",
       "      <th>YearsExperience</th>\n",
       "      <th>Salary</th>\n",
       "    </tr>\n",
       "  </thead>\n",
       "  <tbody>\n",
       "    <tr>\n",
       "      <th>0</th>\n",
       "      <td>0</td>\n",
       "      <td>1.2</td>\n",
       "      <td>39344.0</td>\n",
       "    </tr>\n",
       "    <tr>\n",
       "      <th>1</th>\n",
       "      <td>1</td>\n",
       "      <td>1.4</td>\n",
       "      <td>46206.0</td>\n",
       "    </tr>\n",
       "    <tr>\n",
       "      <th>2</th>\n",
       "      <td>2</td>\n",
       "      <td>1.6</td>\n",
       "      <td>37732.0</td>\n",
       "    </tr>\n",
       "    <tr>\n",
       "      <th>3</th>\n",
       "      <td>3</td>\n",
       "      <td>2.1</td>\n",
       "      <td>43526.0</td>\n",
       "    </tr>\n",
       "    <tr>\n",
       "      <th>4</th>\n",
       "      <td>4</td>\n",
       "      <td>2.3</td>\n",
       "      <td>39892.0</td>\n",
       "    </tr>\n",
       "    <tr>\n",
       "      <th>5</th>\n",
       "      <td>5</td>\n",
       "      <td>3.0</td>\n",
       "      <td>56643.0</td>\n",
       "    </tr>\n",
       "    <tr>\n",
       "      <th>6</th>\n",
       "      <td>6</td>\n",
       "      <td>3.1</td>\n",
       "      <td>60151.0</td>\n",
       "    </tr>\n",
       "    <tr>\n",
       "      <th>7</th>\n",
       "      <td>7</td>\n",
       "      <td>3.3</td>\n",
       "      <td>54446.0</td>\n",
       "    </tr>\n",
       "    <tr>\n",
       "      <th>8</th>\n",
       "      <td>8</td>\n",
       "      <td>3.3</td>\n",
       "      <td>64446.0</td>\n",
       "    </tr>\n",
       "    <tr>\n",
       "      <th>9</th>\n",
       "      <td>9</td>\n",
       "      <td>3.8</td>\n",
       "      <td>57190.0</td>\n",
       "    </tr>\n",
       "    <tr>\n",
       "      <th>10</th>\n",
       "      <td>10</td>\n",
       "      <td>4.0</td>\n",
       "      <td>63219.0</td>\n",
       "    </tr>\n",
       "    <tr>\n",
       "      <th>11</th>\n",
       "      <td>11</td>\n",
       "      <td>4.1</td>\n",
       "      <td>55795.0</td>\n",
       "    </tr>\n",
       "    <tr>\n",
       "      <th>12</th>\n",
       "      <td>12</td>\n",
       "      <td>4.1</td>\n",
       "      <td>56958.0</td>\n",
       "    </tr>\n",
       "    <tr>\n",
       "      <th>13</th>\n",
       "      <td>13</td>\n",
       "      <td>4.2</td>\n",
       "      <td>57082.0</td>\n",
       "    </tr>\n",
       "    <tr>\n",
       "      <th>14</th>\n",
       "      <td>14</td>\n",
       "      <td>4.6</td>\n",
       "      <td>61112.0</td>\n",
       "    </tr>\n",
       "    <tr>\n",
       "      <th>15</th>\n",
       "      <td>15</td>\n",
       "      <td>5.0</td>\n",
       "      <td>67939.0</td>\n",
       "    </tr>\n",
       "    <tr>\n",
       "      <th>16</th>\n",
       "      <td>16</td>\n",
       "      <td>5.2</td>\n",
       "      <td>66030.0</td>\n",
       "    </tr>\n",
       "    <tr>\n",
       "      <th>17</th>\n",
       "      <td>17</td>\n",
       "      <td>5.4</td>\n",
       "      <td>83089.0</td>\n",
       "    </tr>\n",
       "    <tr>\n",
       "      <th>18</th>\n",
       "      <td>18</td>\n",
       "      <td>6.0</td>\n",
       "      <td>81364.0</td>\n",
       "    </tr>\n",
       "    <tr>\n",
       "      <th>19</th>\n",
       "      <td>19</td>\n",
       "      <td>6.1</td>\n",
       "      <td>93941.0</td>\n",
       "    </tr>\n",
       "    <tr>\n",
       "      <th>20</th>\n",
       "      <td>20</td>\n",
       "      <td>6.9</td>\n",
       "      <td>91739.0</td>\n",
       "    </tr>\n",
       "    <tr>\n",
       "      <th>21</th>\n",
       "      <td>21</td>\n",
       "      <td>7.2</td>\n",
       "      <td>98274.0</td>\n",
       "    </tr>\n",
       "    <tr>\n",
       "      <th>22</th>\n",
       "      <td>22</td>\n",
       "      <td>8.0</td>\n",
       "      <td>101303.0</td>\n",
       "    </tr>\n",
       "    <tr>\n",
       "      <th>23</th>\n",
       "      <td>23</td>\n",
       "      <td>8.3</td>\n",
       "      <td>113813.0</td>\n",
       "    </tr>\n",
       "    <tr>\n",
       "      <th>24</th>\n",
       "      <td>24</td>\n",
       "      <td>8.8</td>\n",
       "      <td>109432.0</td>\n",
       "    </tr>\n",
       "    <tr>\n",
       "      <th>25</th>\n",
       "      <td>25</td>\n",
       "      <td>9.1</td>\n",
       "      <td>105583.0</td>\n",
       "    </tr>\n",
       "    <tr>\n",
       "      <th>26</th>\n",
       "      <td>26</td>\n",
       "      <td>9.6</td>\n",
       "      <td>116970.0</td>\n",
       "    </tr>\n",
       "    <tr>\n",
       "      <th>27</th>\n",
       "      <td>27</td>\n",
       "      <td>9.7</td>\n",
       "      <td>112636.0</td>\n",
       "    </tr>\n",
       "    <tr>\n",
       "      <th>28</th>\n",
       "      <td>28</td>\n",
       "      <td>10.4</td>\n",
       "      <td>122392.0</td>\n",
       "    </tr>\n",
       "    <tr>\n",
       "      <th>29</th>\n",
       "      <td>29</td>\n",
       "      <td>10.6</td>\n",
       "      <td>121873.0</td>\n",
       "    </tr>\n",
       "  </tbody>\n",
       "</table>\n",
       "</div>"
      ],
      "text/plain": [
       "    Unnamed: 0  YearsExperience    Salary\n",
       "0            0              1.2   39344.0\n",
       "1            1              1.4   46206.0\n",
       "2            2              1.6   37732.0\n",
       "3            3              2.1   43526.0\n",
       "4            4              2.3   39892.0\n",
       "5            5              3.0   56643.0\n",
       "6            6              3.1   60151.0\n",
       "7            7              3.3   54446.0\n",
       "8            8              3.3   64446.0\n",
       "9            9              3.8   57190.0\n",
       "10          10              4.0   63219.0\n",
       "11          11              4.1   55795.0\n",
       "12          12              4.1   56958.0\n",
       "13          13              4.2   57082.0\n",
       "14          14              4.6   61112.0\n",
       "15          15              5.0   67939.0\n",
       "16          16              5.2   66030.0\n",
       "17          17              5.4   83089.0\n",
       "18          18              6.0   81364.0\n",
       "19          19              6.1   93941.0\n",
       "20          20              6.9   91739.0\n",
       "21          21              7.2   98274.0\n",
       "22          22              8.0  101303.0\n",
       "23          23              8.3  113813.0\n",
       "24          24              8.8  109432.0\n",
       "25          25              9.1  105583.0\n",
       "26          26              9.6  116970.0\n",
       "27          27              9.7  112636.0\n",
       "28          28             10.4  122392.0\n",
       "29          29             10.6  121873.0"
      ]
     },
     "execution_count": 2,
     "metadata": {},
     "output_type": "execute_result"
    }
   ],
   "source": [
    "# Imports the Pandas library to use in the Jupyter Notebook\n",
    "import pandas as pd\n",
    "\n",
    "# Loding the data\n",
    "df = pd.read_csv('Salary_dataset.csv')\n",
    "\n",
    "df"
   ]
  },
  {
   "cell_type": "code",
   "execution_count": 3,
   "id": "315f0a3e",
   "metadata": {},
   "outputs": [
    {
     "data": {
      "text/html": [
       "<div>\n",
       "<style scoped>\n",
       "    .dataframe tbody tr th:only-of-type {\n",
       "        vertical-align: middle;\n",
       "    }\n",
       "\n",
       "    .dataframe tbody tr th {\n",
       "        vertical-align: top;\n",
       "    }\n",
       "\n",
       "    .dataframe thead th {\n",
       "        text-align: right;\n",
       "    }\n",
       "</style>\n",
       "<table border=\"1\" class=\"dataframe\">\n",
       "  <thead>\n",
       "    <tr style=\"text-align: right;\">\n",
       "      <th></th>\n",
       "      <th>YearsExperience</th>\n",
       "    </tr>\n",
       "  </thead>\n",
       "  <tbody>\n",
       "    <tr>\n",
       "      <th>0</th>\n",
       "      <td>1.2</td>\n",
       "    </tr>\n",
       "    <tr>\n",
       "      <th>1</th>\n",
       "      <td>1.4</td>\n",
       "    </tr>\n",
       "    <tr>\n",
       "      <th>2</th>\n",
       "      <td>1.6</td>\n",
       "    </tr>\n",
       "    <tr>\n",
       "      <th>3</th>\n",
       "      <td>2.1</td>\n",
       "    </tr>\n",
       "    <tr>\n",
       "      <th>4</th>\n",
       "      <td>2.3</td>\n",
       "    </tr>\n",
       "    <tr>\n",
       "      <th>5</th>\n",
       "      <td>3.0</td>\n",
       "    </tr>\n",
       "    <tr>\n",
       "      <th>6</th>\n",
       "      <td>3.1</td>\n",
       "    </tr>\n",
       "    <tr>\n",
       "      <th>7</th>\n",
       "      <td>3.3</td>\n",
       "    </tr>\n",
       "    <tr>\n",
       "      <th>8</th>\n",
       "      <td>3.3</td>\n",
       "    </tr>\n",
       "    <tr>\n",
       "      <th>9</th>\n",
       "      <td>3.8</td>\n",
       "    </tr>\n",
       "    <tr>\n",
       "      <th>10</th>\n",
       "      <td>4.0</td>\n",
       "    </tr>\n",
       "    <tr>\n",
       "      <th>11</th>\n",
       "      <td>4.1</td>\n",
       "    </tr>\n",
       "    <tr>\n",
       "      <th>12</th>\n",
       "      <td>4.1</td>\n",
       "    </tr>\n",
       "    <tr>\n",
       "      <th>13</th>\n",
       "      <td>4.2</td>\n",
       "    </tr>\n",
       "    <tr>\n",
       "      <th>14</th>\n",
       "      <td>4.6</td>\n",
       "    </tr>\n",
       "    <tr>\n",
       "      <th>15</th>\n",
       "      <td>5.0</td>\n",
       "    </tr>\n",
       "    <tr>\n",
       "      <th>16</th>\n",
       "      <td>5.2</td>\n",
       "    </tr>\n",
       "    <tr>\n",
       "      <th>17</th>\n",
       "      <td>5.4</td>\n",
       "    </tr>\n",
       "    <tr>\n",
       "      <th>18</th>\n",
       "      <td>6.0</td>\n",
       "    </tr>\n",
       "    <tr>\n",
       "      <th>19</th>\n",
       "      <td>6.1</td>\n",
       "    </tr>\n",
       "    <tr>\n",
       "      <th>20</th>\n",
       "      <td>6.9</td>\n",
       "    </tr>\n",
       "    <tr>\n",
       "      <th>21</th>\n",
       "      <td>7.2</td>\n",
       "    </tr>\n",
       "    <tr>\n",
       "      <th>22</th>\n",
       "      <td>8.0</td>\n",
       "    </tr>\n",
       "    <tr>\n",
       "      <th>23</th>\n",
       "      <td>8.3</td>\n",
       "    </tr>\n",
       "    <tr>\n",
       "      <th>24</th>\n",
       "      <td>8.8</td>\n",
       "    </tr>\n",
       "    <tr>\n",
       "      <th>25</th>\n",
       "      <td>9.1</td>\n",
       "    </tr>\n",
       "    <tr>\n",
       "      <th>26</th>\n",
       "      <td>9.6</td>\n",
       "    </tr>\n",
       "    <tr>\n",
       "      <th>27</th>\n",
       "      <td>9.7</td>\n",
       "    </tr>\n",
       "    <tr>\n",
       "      <th>28</th>\n",
       "      <td>10.4</td>\n",
       "    </tr>\n",
       "    <tr>\n",
       "      <th>29</th>\n",
       "      <td>10.6</td>\n",
       "    </tr>\n",
       "  </tbody>\n",
       "</table>\n",
       "</div>"
      ],
      "text/plain": [
       "    YearsExperience\n",
       "0               1.2\n",
       "1               1.4\n",
       "2               1.6\n",
       "3               2.1\n",
       "4               2.3\n",
       "5               3.0\n",
       "6               3.1\n",
       "7               3.3\n",
       "8               3.3\n",
       "9               3.8\n",
       "10              4.0\n",
       "11              4.1\n",
       "12              4.1\n",
       "13              4.2\n",
       "14              4.6\n",
       "15              5.0\n",
       "16              5.2\n",
       "17              5.4\n",
       "18              6.0\n",
       "19              6.1\n",
       "20              6.9\n",
       "21              7.2\n",
       "22              8.0\n",
       "23              8.3\n",
       "24              8.8\n",
       "25              9.1\n",
       "26              9.6\n",
       "27              9.7\n",
       "28             10.4\n",
       "29             10.6"
      ]
     },
     "execution_count": 3,
     "metadata": {},
     "output_type": "execute_result"
    }
   ],
   "source": [
    "# Seperate the X dataset of features\n",
    "X = df.iloc[:,1:2]\n",
    "\n",
    "X"
   ]
  },
  {
   "cell_type": "code",
   "execution_count": 4,
   "id": "0fa0b90e",
   "metadata": {},
   "outputs": [
    {
     "data": {
      "text/html": [
       "<div>\n",
       "<style scoped>\n",
       "    .dataframe tbody tr th:only-of-type {\n",
       "        vertical-align: middle;\n",
       "    }\n",
       "\n",
       "    .dataframe tbody tr th {\n",
       "        vertical-align: top;\n",
       "    }\n",
       "\n",
       "    .dataframe thead th {\n",
       "        text-align: right;\n",
       "    }\n",
       "</style>\n",
       "<table border=\"1\" class=\"dataframe\">\n",
       "  <thead>\n",
       "    <tr style=\"text-align: right;\">\n",
       "      <th></th>\n",
       "      <th>Salary</th>\n",
       "    </tr>\n",
       "  </thead>\n",
       "  <tbody>\n",
       "    <tr>\n",
       "      <th>0</th>\n",
       "      <td>39344.0</td>\n",
       "    </tr>\n",
       "    <tr>\n",
       "      <th>1</th>\n",
       "      <td>46206.0</td>\n",
       "    </tr>\n",
       "    <tr>\n",
       "      <th>2</th>\n",
       "      <td>37732.0</td>\n",
       "    </tr>\n",
       "    <tr>\n",
       "      <th>3</th>\n",
       "      <td>43526.0</td>\n",
       "    </tr>\n",
       "    <tr>\n",
       "      <th>4</th>\n",
       "      <td>39892.0</td>\n",
       "    </tr>\n",
       "    <tr>\n",
       "      <th>5</th>\n",
       "      <td>56643.0</td>\n",
       "    </tr>\n",
       "    <tr>\n",
       "      <th>6</th>\n",
       "      <td>60151.0</td>\n",
       "    </tr>\n",
       "    <tr>\n",
       "      <th>7</th>\n",
       "      <td>54446.0</td>\n",
       "    </tr>\n",
       "    <tr>\n",
       "      <th>8</th>\n",
       "      <td>64446.0</td>\n",
       "    </tr>\n",
       "    <tr>\n",
       "      <th>9</th>\n",
       "      <td>57190.0</td>\n",
       "    </tr>\n",
       "    <tr>\n",
       "      <th>10</th>\n",
       "      <td>63219.0</td>\n",
       "    </tr>\n",
       "    <tr>\n",
       "      <th>11</th>\n",
       "      <td>55795.0</td>\n",
       "    </tr>\n",
       "    <tr>\n",
       "      <th>12</th>\n",
       "      <td>56958.0</td>\n",
       "    </tr>\n",
       "    <tr>\n",
       "      <th>13</th>\n",
       "      <td>57082.0</td>\n",
       "    </tr>\n",
       "    <tr>\n",
       "      <th>14</th>\n",
       "      <td>61112.0</td>\n",
       "    </tr>\n",
       "    <tr>\n",
       "      <th>15</th>\n",
       "      <td>67939.0</td>\n",
       "    </tr>\n",
       "    <tr>\n",
       "      <th>16</th>\n",
       "      <td>66030.0</td>\n",
       "    </tr>\n",
       "    <tr>\n",
       "      <th>17</th>\n",
       "      <td>83089.0</td>\n",
       "    </tr>\n",
       "    <tr>\n",
       "      <th>18</th>\n",
       "      <td>81364.0</td>\n",
       "    </tr>\n",
       "    <tr>\n",
       "      <th>19</th>\n",
       "      <td>93941.0</td>\n",
       "    </tr>\n",
       "    <tr>\n",
       "      <th>20</th>\n",
       "      <td>91739.0</td>\n",
       "    </tr>\n",
       "    <tr>\n",
       "      <th>21</th>\n",
       "      <td>98274.0</td>\n",
       "    </tr>\n",
       "    <tr>\n",
       "      <th>22</th>\n",
       "      <td>101303.0</td>\n",
       "    </tr>\n",
       "    <tr>\n",
       "      <th>23</th>\n",
       "      <td>113813.0</td>\n",
       "    </tr>\n",
       "    <tr>\n",
       "      <th>24</th>\n",
       "      <td>109432.0</td>\n",
       "    </tr>\n",
       "    <tr>\n",
       "      <th>25</th>\n",
       "      <td>105583.0</td>\n",
       "    </tr>\n",
       "    <tr>\n",
       "      <th>26</th>\n",
       "      <td>116970.0</td>\n",
       "    </tr>\n",
       "    <tr>\n",
       "      <th>27</th>\n",
       "      <td>112636.0</td>\n",
       "    </tr>\n",
       "    <tr>\n",
       "      <th>28</th>\n",
       "      <td>122392.0</td>\n",
       "    </tr>\n",
       "    <tr>\n",
       "      <th>29</th>\n",
       "      <td>121873.0</td>\n",
       "    </tr>\n",
       "  </tbody>\n",
       "</table>\n",
       "</div>"
      ],
      "text/plain": [
       "      Salary\n",
       "0    39344.0\n",
       "1    46206.0\n",
       "2    37732.0\n",
       "3    43526.0\n",
       "4    39892.0\n",
       "5    56643.0\n",
       "6    60151.0\n",
       "7    54446.0\n",
       "8    64446.0\n",
       "9    57190.0\n",
       "10   63219.0\n",
       "11   55795.0\n",
       "12   56958.0\n",
       "13   57082.0\n",
       "14   61112.0\n",
       "15   67939.0\n",
       "16   66030.0\n",
       "17   83089.0\n",
       "18   81364.0\n",
       "19   93941.0\n",
       "20   91739.0\n",
       "21   98274.0\n",
       "22  101303.0\n",
       "23  113813.0\n",
       "24  109432.0\n",
       "25  105583.0\n",
       "26  116970.0\n",
       "27  112636.0\n",
       "28  122392.0\n",
       "29  121873.0"
      ]
     },
     "execution_count": 4,
     "metadata": {},
     "output_type": "execute_result"
    }
   ],
   "source": [
    "# Seperate the target values from the dataset\n",
    "y  = df.iloc[:,2:3]\n",
    "\n",
    "y"
   ]
  },
  {
   "cell_type": "markdown",
   "id": "bda42529",
   "metadata": {},
   "source": [
    "# 3. Normalise the Data"
   ]
  },
  {
   "cell_type": "code",
   "execution_count": 5,
   "id": "5781a981",
   "metadata": {},
   "outputs": [
    {
     "data": {
      "text/plain": [
       "array([[-1.51005294],\n",
       "       [-1.43837321],\n",
       "       [-1.36669348],\n",
       "       [-1.18749416],\n",
       "       [-1.11581443],\n",
       "       [-0.86493538],\n",
       "       [-0.82909552],\n",
       "       [-0.75741579],\n",
       "       [-0.75741579],\n",
       "       [-0.57821647],\n",
       "       [-0.50653674],\n",
       "       [-0.47069688],\n",
       "       [-0.47069688],\n",
       "       [-0.43485702],\n",
       "       [-0.29149756],\n",
       "       [-0.1481381 ],\n",
       "       [-0.07645838],\n",
       "       [-0.00477865],\n",
       "       [ 0.21026054],\n",
       "       [ 0.2461004 ],\n",
       "       [ 0.53281931],\n",
       "       [ 0.6403389 ],\n",
       "       [ 0.92705781],\n",
       "       [ 1.03457741],\n",
       "       [ 1.21377673],\n",
       "       [ 1.32129632],\n",
       "       [ 1.50049564],\n",
       "       [ 1.5363355 ],\n",
       "       [ 1.78721455],\n",
       "       [ 1.85889428]])"
      ]
     },
     "execution_count": 5,
     "metadata": {},
     "output_type": "execute_result"
    }
   ],
   "source": [
    "# Imports the StandardScaler object from ScikitLearn\n",
    "from sklearn.preprocessing import StandardScaler\n",
    "\n",
    "# Normalises the data features with ScikitLearn StandardScaler object\n",
    "# Creates the StandardScaler object from ScikitLearn\n",
    "scaler = StandardScaler().fit(X)\n",
    "\n",
    "# Fits the normalisation for the model\n",
    "X = scaler.transform(X)\n",
    "\n",
    "X"
   ]
  },
  {
   "cell_type": "markdown",
   "id": "af773841",
   "metadata": {},
   "source": [
    "# 3. Train Test Split"
   ]
  },
  {
   "cell_type": "code",
   "execution_count": 6,
   "id": "88dd97d5",
   "metadata": {},
   "outputs": [
    {
     "data": {
      "text/plain": [
       "array([[ 1.78721455],\n",
       "       [ 1.21377673],\n",
       "       [-0.47069688],\n",
       "       [-1.51005294],\n",
       "       [-1.11581443],\n",
       "       [-0.07645838],\n",
       "       [-0.86493538],\n",
       "       [-0.43485702],\n",
       "       [-0.47069688],\n",
       "       [ 0.92705781],\n",
       "       [-1.43837321],\n",
       "       [-1.36669348],\n",
       "       [ 1.32129632],\n",
       "       [-1.18749416],\n",
       "       [ 0.6403389 ],\n",
       "       [ 1.50049564],\n",
       "       [ 0.21026054],\n",
       "       [ 1.85889428],\n",
       "       [ 0.53281931],\n",
       "       [-0.75741579],\n",
       "       [-0.50653674],\n",
       "       [-0.29149756],\n",
       "       [ 0.2461004 ],\n",
       "       [-0.82909552]])"
      ]
     },
     "execution_count": 6,
     "metadata": {},
     "output_type": "execute_result"
    }
   ],
   "source": [
    "# Imports the train test split method from ScikitLearn\n",
    "from sklearn.model_selection import train_test_split\n",
    "\n",
    "# Carry out a train, test split from ScikitLearn\n",
    "X_train, X_test, y_train, y_test = train_test_split(X, y, test_size=0.2, random_state=42)\n",
    "\n",
    "# Prints out the X_train features to the screen\n",
    "X_train"
   ]
  },
  {
   "cell_type": "code",
   "execution_count": 7,
   "id": "b6b4b0c4",
   "metadata": {},
   "outputs": [
    {
     "data": {
      "text/plain": [
       "array([[122392.],\n",
       "       [109432.],\n",
       "       [ 56958.],\n",
       "       [ 39344.],\n",
       "       [ 39892.],\n",
       "       [ 66030.],\n",
       "       [ 56643.],\n",
       "       [ 57082.],\n",
       "       [ 55795.],\n",
       "       [101303.],\n",
       "       [ 46206.],\n",
       "       [ 37732.],\n",
       "       [105583.],\n",
       "       [ 43526.],\n",
       "       [ 98274.],\n",
       "       [116970.],\n",
       "       [ 81364.],\n",
       "       [121873.],\n",
       "       [ 91739.],\n",
       "       [ 54446.],\n",
       "       [ 63219.],\n",
       "       [ 61112.],\n",
       "       [ 93941.],\n",
       "       [ 60151.]])"
      ]
     },
     "execution_count": 7,
     "metadata": {},
     "output_type": "execute_result"
    }
   ],
   "source": [
    "# Converts the y_train features from a DataFrame to a NumPy array\n",
    "y_train = y_train.values\n",
    " \n",
    "y_train"
   ]
  },
  {
   "cell_type": "code",
   "execution_count": 8,
   "id": "71ba0605",
   "metadata": {},
   "outputs": [
    {
     "data": {
      "text/plain": [
       "array([[ 1.5363355 ],\n",
       "       [-0.1481381 ],\n",
       "       [ 1.03457741],\n",
       "       [-0.00477865],\n",
       "       [-0.75741579],\n",
       "       [-0.57821647]])"
      ]
     },
     "execution_count": 8,
     "metadata": {},
     "output_type": "execute_result"
    }
   ],
   "source": [
    "# Prints out the X_test features to the screen\n",
    "X_test"
   ]
  },
  {
   "cell_type": "code",
   "execution_count": 9,
   "id": "c82face4",
   "metadata": {},
   "outputs": [
    {
     "data": {
      "text/plain": [
       "array([[112636.],\n",
       "       [ 67939.],\n",
       "       [113813.],\n",
       "       [ 83089.],\n",
       "       [ 64446.],\n",
       "       [ 57190.]])"
      ]
     },
     "execution_count": 9,
     "metadata": {},
     "output_type": "execute_result"
    }
   ],
   "source": [
    "# Converts the y_test features from a DataFrame to a NumPy array\n",
    "y_test = y_test.values\n",
    "    \n",
    "y_test"
   ]
  },
  {
   "cell_type": "markdown",
   "id": "a5e586a8",
   "metadata": {},
   "source": [
    "# 4. Plot the Dataset Features (X_test) Against the Targets (y_test)"
   ]
  },
  {
   "cell_type": "code",
   "execution_count": 10,
   "id": "5fc78aea",
   "metadata": {},
   "outputs": [
    {
     "data": {
      "text/plain": [
       "Text(0, 0.5, 'Salary (£)')"
      ]
     },
     "execution_count": 10,
     "metadata": {},
     "output_type": "execute_result"
    },
    {
     "data": {
      "image/png": "[encoded data removed]",
      "text/plain": [
       "<Figure size 640x480 with 1 Axes>"
      ]
     },
     "metadata": {},
     "output_type": "display_data"
    }
   ],
   "source": [
    "# Imports the Matplotlib and Seaborn modules for plotting in the Jupyter Notebook\n",
    "import matplotlib.pyplot as plt\n",
    "import seaborn as sns\n",
    "\n",
    "# Sets the style of the line plot to whitegrid colour\n",
    "sns.set_style('whitegrid')\n",
    "\n",
    "# Stores the plot values in the axes variable and plots the line graph\n",
    "axes = sns.regplot(x=X_test, y=y_test)\n",
    "\n",
    "# Sets the title, x-axis label and the y-axis labels of the plot\n",
    "plt.title('Linear Regression Dataset Regplot')\n",
    "plt.xlabel('Years of Experience')\n",
    "plt.ylabel('Salary (£)')"
   ]
  },
  {
   "cell_type": "markdown",
   "id": "f34b7cc0",
   "metadata": {},
   "source": [
    "# 5. Train the Linear Regression Model"
   ]
  },
  {
   "cell_type": "code",
   "execution_count": 11,
   "id": "e35bed8f",
   "metadata": {},
   "outputs": [],
   "source": [
    "# Creating the SimpleLinearRegression class object\n",
    "regressor = SimpleLinearRegression(X_train, y_train, lr=0.01, n_iters=1000)\n",
    " \n",
    "# Train the model with the fit method\n",
    "regressor.fit()"
   ]
  },
  {
   "cell_type": "markdown",
   "id": "77d325cd",
   "metadata": {},
   "source": [
    "# 6. Make Predictions on the Test Dataset"
   ]
  },
  {
   "cell_type": "code",
   "execution_count": 12,
   "id": "7bd2db12",
   "metadata": {},
   "outputs": [
    {
     "data": {
      "text/plain": [
       "array([[115787.38545954],\n",
       "       [ 71495.90787825],\n",
       "       [102594.1793715 ],\n",
       "       [ 75265.39533198],\n",
       "       [ 55475.58619991],\n",
       "       [ 60187.44551707]])"
      ]
     },
     "execution_count": 12,
     "metadata": {},
     "output_type": "execute_result"
    }
   ],
   "source": [
    "# Makes predictions on the test dataset X_test\n",
    "y_pred = regressor.predict(X_test)\n",
    "\n",
    "y_pred"
   ]
  },
  {
   "cell_type": "markdown",
   "id": "c5a612ba",
   "metadata": {},
   "source": [
    "# 7. Flatten the 2D NumPy Array to a 1D NumPy Array"
   ]
  },
  {
   "cell_type": "code",
   "execution_count": 13,
   "id": "db848b9c",
   "metadata": {},
   "outputs": [
    {
     "data": {
      "text/plain": [
       "array([115787.38545954,  71495.90787825, 102594.1793715 ,  75265.39533198,\n",
       "        55475.58619991,  60187.44551707])"
      ]
     },
     "execution_count": 13,
     "metadata": {},
     "output_type": "execute_result"
    }
   ],
   "source": [
    "# Flattens the 2D pred array to 1D from the model and stores it in the flat Python variable\n",
    "flat = y_pred.flatten()\n",
    "\n",
    "flat"
   ]
  },
  {
   "cell_type": "code",
   "execution_count": 14,
   "id": "274e1c71",
   "metadata": {},
   "outputs": [
    {
     "data": {
      "text/plain": [
       "array([[112636.],\n",
       "       [ 67939.],\n",
       "       [113813.],\n",
       "       [ 83089.],\n",
       "       [ 64446.],\n",
       "       [ 57190.]])"
      ]
     },
     "execution_count": 14,
     "metadata": {},
     "output_type": "execute_result"
    }
   ],
   "source": [
    "# Prints out the y_test variable to the screen\n",
    "y_test"
   ]
  },
  {
   "cell_type": "code",
   "execution_count": 15,
   "id": "aef8cfbe",
   "metadata": {},
   "outputs": [
    {
     "data": {
      "text/plain": [
       "array([112636.,  67939., 113813.,  83089.,  64446.,  57190.])"
      ]
     },
     "execution_count": 15,
     "metadata": {},
     "output_type": "execute_result"
    }
   ],
   "source": [
    "# Flattens the y_test 2D array to 1D and stores it in the y variable\n",
    "y = y_test.flatten()\n",
    "\n",
    "y"
   ]
  },
  {
   "cell_type": "markdown",
   "id": "fff4debf",
   "metadata": {},
   "source": [
    "# 8. PLCC, SRCC and KRCC Correlation Performance Metrics Method"
   ]
  },
  {
   "cell_type": "code",
   "execution_count": 16,
   "id": "8c3d86ef",
   "metadata": {},
   "outputs": [],
   "source": [
    "# Python method to calculate correlation coefficient metrics\n",
    "def correlation(X, y):\n",
    "    \n",
    "    # Import Scipy libraray\n",
    "    import scipy.stats\n",
    "    \n",
    "    # Calculate Pearson's Linear Correlation Coefficient with Scipy\n",
    "    PLCC = scipy.stats.pearsonr(X, y)[0]    # Pearson's r\n",
    "\n",
    "    # Calculate Spearman Rank Correlation Coefficient (SRCC) with Scipy\n",
    "    SRCC = scipy.stats.spearmanr(X, y)[0]   # Spearman's rho\n",
    "\n",
    "    # Calculate Kendalls Rank Correlation Coefficient (KRCC) with Scipy\n",
    "    KRCC = scipy.stats.kendalltau(X, y)[0]  # Kendall's tau\n",
    "    \n",
    "    # Prints out the correlation performance metric results to the screen\n",
    "    print(\"PLCC: \", PLCC)\n",
    "    print(\"SRCC: \", SRCC)\n",
    "    print(\"KRCC: \", KRCC)"
   ]
  },
  {
   "cell_type": "markdown",
   "id": "2023a257",
   "metadata": {},
   "source": [
    "# 9. Evaluate PLCC, SRCC and KRCC Performance Metrics"
   ]
  },
  {
   "cell_type": "code",
   "execution_count": 17,
   "id": "5328844c",
   "metadata": {},
   "outputs": [
    {
     "name": "stdout",
     "output_type": "stream",
     "text": [
      "PLCC:  0.9595453701413408\n",
      "SRCC:  0.8857142857142858\n",
      "KRCC:  0.7333333333333333\n"
     ]
    }
   ],
   "source": [
    "# Calls the correlation coefficient Python method to calculate PLCC, SRCC, and KRCC\n",
    "# with SciPy\n",
    "correlation(flat, y)"
   ]
  },
  {
   "cell_type": "markdown",
   "id": "c6425b0d",
   "metadata": {},
   "source": [
    "# Root Mean Square Error (RMSE)"
   ]
  },
  {
   "cell_type": "code",
   "execution_count": 18,
   "id": "a50f02d8",
   "metadata": {},
   "outputs": [
    {
     "data": {
      "text/plain": [
       "7060.5305942931345"
      ]
     },
     "execution_count": 18,
     "metadata": {},
     "output_type": "execute_result"
    }
   ],
   "source": [
    "# Imports the mean_squared_error method from ScikitLearn\n",
    "from sklearn.metrics import mean_squared_error\n",
    "\n",
    "# Calls the Mean Squared Error method from ScikitLearn\n",
    "rmse = mean_squared_error(flat, y)\n",
    "\n",
    "# Prints out the RMSE value to the screen\n",
    "np.sqrt(rmse)"
   ]
  },
  {
   "cell_type": "markdown",
   "id": "cf521af8",
   "metadata": {},
   "source": [
    "# R2 Score"
   ]
  },
  {
   "cell_type": "code",
   "execution_count": 19,
   "id": "c296bc88",
   "metadata": {},
   "outputs": [
    {
     "data": {
      "text/plain": [
       "0.8961380006182991"
      ]
     },
     "execution_count": 19,
     "metadata": {},
     "output_type": "execute_result"
    }
   ],
   "source": [
    "# Imports the r2_score method from ScikitLearn\n",
    "from sklearn.metrics import r2_score\n",
    "\n",
    "# Calls the R2 Score method from ScikitLearn\n",
    "r2 = r2_score(flat, y)\n",
    "\n",
    "# Prints out the R2 Score value to the screen\n",
    "r2"
   ]
  },
  {
   "cell_type": "markdown",
   "id": "67e5bb84",
   "metadata": {},
   "source": [
    "# 10. Plot the Test Predictions"
   ]
  },
  {
   "cell_type": "code",
   "execution_count": 20,
   "id": "85ba29d6",
   "metadata": {},
   "outputs": [
    {
     "data": {
      "text/plain": [
       "Text(0, 0.5, 'Salary (£)')"
      ]
     },
     "execution_count": 20,
     "metadata": {},
     "output_type": "execute_result"
    },
    {
     "data": {
      "image/png": "[encoded data removed]",
      "text/plain": [
       "<Figure size 640x480 with 1 Axes>"
      ]
     },
     "metadata": {},
     "output_type": "display_data"
    }
   ],
   "source": [
    "# Sets the style of the line plot to whitegrid colour\n",
    "sns.set_style('whitegrid')\n",
    "\n",
    "# Stores the plot values in the axes variable and plots the line graph\n",
    "axes = sns.regplot(x=X_test, y=y_pred)\n",
    "\n",
    "# Sets the title, x-axis label and the y-axis labels of the plot\n",
    "plt.title('Linear Regression Predictions')\n",
    "plt.xlabel('Years of Experience')\n",
    "plt.ylabel('Salary (£)')"
   ]
  },
  {
   "cell_type": "markdown",
   "id": "c32d4b9b",
   "metadata": {},
   "source": [
    "# 11. Test on the ScikitLearn Linear Regression Model"
   ]
  },
  {
   "cell_type": "code",
   "execution_count": 21,
   "id": "882d08a7",
   "metadata": {},
   "outputs": [],
   "source": [
    "# Imports the Linear Regression model from ScikitLearn\n",
    "from sklearn.linear_model import LinearRegression\n",
    "\n",
    "# Trains the ScikitLEarn Linear Regression model\n",
    "reg = LinearRegression().fit(X_train, y_train)"
   ]
  },
  {
   "cell_type": "code",
   "execution_count": 22,
   "id": "bd9b1e96",
   "metadata": {},
   "outputs": [
    {
     "data": {
      "text/plain": [
       "0.9645401573418148"
      ]
     },
     "execution_count": 22,
     "metadata": {},
     "output_type": "execute_result"
    }
   ],
   "source": [
    "# Outputs the regression score to the screen\n",
    "reg.score(X_train, y_train)"
   ]
  },
  {
   "cell_type": "code",
   "execution_count": 23,
   "id": "a5da8ea5",
   "metadata": {},
   "outputs": [
    {
     "data": {
      "text/plain": [
       "array([[26294.22737194]])"
      ]
     },
     "execution_count": 23,
     "metadata": {},
     "output_type": "execute_result"
    }
   ],
   "source": [
    "# Prints out the regression coefficient to the screen from the ScikitLearn Linear Regression model\n",
    "reg.coef_"
   ]
  },
  {
   "cell_type": "code",
   "execution_count": 24,
   "id": "a7109e0d",
   "metadata": {},
   "outputs": [
    {
     "data": {
      "text/plain": [
       "array([75394.45509481])"
      ]
     },
     "execution_count": 24,
     "metadata": {},
     "output_type": "execute_result"
    }
   ],
   "source": [
    "# Prints out the regression intercept to the screen from the ScikitLearn Linear Regression model\n",
    "reg.intercept_"
   ]
  },
  {
   "cell_type": "markdown",
   "id": "31cbd3ad",
   "metadata": {},
   "source": [
    "# 12. Make Predictions"
   ]
  },
  {
   "cell_type": "code",
   "execution_count": 25,
   "id": "6dd4caac",
   "metadata": {},
   "outputs": [
    {
     "data": {
      "text/plain": [
       "array([[115791.21011287],\n",
       "       [ 71499.27809463],\n",
       "       [102597.86866063],\n",
       "       [ 75268.80422384],\n",
       "       [ 55478.79204548],\n",
       "       [ 60190.69970699]])"
      ]
     },
     "execution_count": 25,
     "metadata": {},
     "output_type": "execute_result"
    }
   ],
   "source": [
    "# Makes predictions on the Linear Regression model\n",
    "y_pred = reg.predict(X_test)\n",
    "\n",
    "y_pred"
   ]
  },
  {
   "cell_type": "code",
   "execution_count": 26,
   "id": "17b05545",
   "metadata": {},
   "outputs": [
    {
     "data": {
      "text/plain": [
       "array([115791.21011287,  71499.27809463, 102597.86866063,  75268.80422384,\n",
       "        55478.79204548,  60190.69970699])"
      ]
     },
     "execution_count": 26,
     "metadata": {},
     "output_type": "execute_result"
    }
   ],
   "source": [
    "# Flattens the 2D pred array to 1D from the model and stores it in the flat Python variable\n",
    "flat = y_pred.flatten()\n",
    "\n",
    "flat"
   ]
  },
  {
   "cell_type": "code",
   "execution_count": 27,
   "id": "48b9e419",
   "metadata": {},
   "outputs": [
    {
     "data": {
      "text/plain": [
       "array([[112636.],\n",
       "       [ 67939.],\n",
       "       [113813.],\n",
       "       [ 83089.],\n",
       "       [ 64446.],\n",
       "       [ 57190.]])"
      ]
     },
     "execution_count": 27,
     "metadata": {},
     "output_type": "execute_result"
    }
   ],
   "source": [
    "# Prints out the y_test variable to the screen\n",
    "y_test"
   ]
  },
  {
   "cell_type": "code",
   "execution_count": 28,
   "id": "7642cda9",
   "metadata": {},
   "outputs": [
    {
     "data": {
      "text/plain": [
       "array([112636.,  67939., 113813.,  83089.,  64446.,  57190.])"
      ]
     },
     "execution_count": 28,
     "metadata": {},
     "output_type": "execute_result"
    }
   ],
   "source": [
    "# Flattens the y_test 2D array to 1D and stores it in the y variable\n",
    "y = y_test.flatten()\n",
    "\n",
    "y"
   ]
  },
  {
   "cell_type": "markdown",
   "id": "9b1bc9ca",
   "metadata": {},
   "source": [
    "# 13. Test the ScikitLearn Linear Regression Model"
   ]
  },
  {
   "cell_type": "code",
   "execution_count": 29,
   "id": "2c4d71ae",
   "metadata": {},
   "outputs": [
    {
     "name": "stdout",
     "output_type": "stream",
     "text": [
      "PLCC:  0.9595453701413408\n",
      "SRCC:  0.8857142857142858\n",
      "KRCC:  0.7333333333333333\n"
     ]
    }
   ],
   "source": [
    "# Calls the correlation coefficient Python method to calculate PLCC, SRCC, and KRCC\n",
    "# with SciPy\n",
    "correlation(flat, y)"
   ]
  },
  {
   "cell_type": "markdown",
   "id": "666500ee",
   "metadata": {},
   "source": [
    "# 14. Plot the Test Predictions"
   ]
  },
  {
   "cell_type": "code",
   "execution_count": 30,
   "id": "be0497b9",
   "metadata": {},
   "outputs": [
    {
     "data": {
      "text/plain": [
       "Text(0, 0.5, 'Salary (£)')"
      ]
     },
     "execution_count": 30,
     "metadata": {},
     "output_type": "execute_result"
    },
    {
     "data": {
      "image/png": "[encoded data removed]",
      "text/plain": [
       "<Figure size 640x480 with 1 Axes>"
      ]
     },
     "metadata": {},
     "output_type": "display_data"
    }
   ],
   "source": [
    "# Sets the style of the line plot to whitegrid colour\n",
    "sns.set_style('whitegrid')\n",
    "\n",
    "# Stores the plot values in the axes variable and plots the line graph\n",
    "axes = sns.regplot(x=X_test, y=y_pred)\n",
    "\n",
    "# Sets the title, x-axis label and the y-axis labels of the plot\n",
    "plt.title('Linear Regression Predictions')\n",
    "plt.xlabel('Years of Experience')\n",
    "plt.ylabel('Salary (£)')"
   ]
  },
  {
   "cell_type": "markdown",
   "id": "3dff455a",
   "metadata": {},
   "source": [
    "# 15. Display Jupyter Notebook Python Variables"
   ]
  },
  {
   "cell_type": "code",
   "execution_count": 31,
   "id": "66457b4d",
   "metadata": {},
   "outputs": [
    {
     "name": "stdout",
     "output_type": "stream",
     "text": [
      "Variable                 Type                      Data/Info\n",
      "------------------------------------------------------------\n",
      "LinearRegression         ABCMeta                   <class 'sklearn.linear_mo<...>._base.LinearRegression'>\n",
      "SimpleLinearRegression   type                      <class '__main__.SimpleLinearRegression'>\n",
      "StandardScaler           type                      <class 'sklearn.preproces<...>ng._data.StandardScaler'>\n",
      "X                        ndarray                   30x1: 30 elems, type `float64`, 240 bytes\n",
      "X_test                   ndarray                   6x1: 6 elems, type `float64`, 48 bytes\n",
      "X_train                  ndarray                   24x1: 24 elems, type `float64`, 192 bytes\n",
      "axes                     AxesSubplot               AxesSubplot(0.125,0.11;0.775x0.77)\n",
      "correlation              function                  <function correlation at 0x0000020886B43E50>\n",
      "df                       DataFrame                     Unnamed: 0  YearsExpe<...>           10.6  121873.0\n",
      "flat                     ndarray                   6: 6 elems, type `float64`, 48 bytes\n",
      "mean_squared_error       function                  <function mean_squared_er<...>or at 0x0000020884F99430>\n",
      "np                       module                    <module 'numpy' from 'C:\\<...>ges\\\\numpy\\\\__init__.py'>\n",
      "pd                       module                    <module 'pandas' from 'C:<...>es\\\\pandas\\\\__init__.py'>\n",
      "plt                      module                    <module 'matplotlib.pyplo<...>\\\\matplotlib\\\\pyplot.py'>\n",
      "r2                       float64                   0.8961380006182991\n",
      "r2_score                 function                  <function r2_score at 0x0000020884F99700>\n",
      "reg                      LinearRegression          LinearRegression()\n",
      "regressor                SimpleLinearRegression    <__main__.SimpleLinearReg<...>ct at 0x000002088502F4C0>\n",
      "rmse                     float64                   49851092.27294937\n",
      "scaler                   StandardScaler            StandardScaler()\n",
      "sns                      module                    <module 'seaborn' from 'C<...>s\\\\seaborn\\\\__init__.py'>\n",
      "train_test_split         function                  <function train_test_split at 0x0000020884EF4430>\n",
      "y                        ndarray                   6: 6 elems, type `float64`, 48 bytes\n",
      "y_pred                   ndarray                   6x1: 6 elems, type `float64`, 48 bytes\n",
      "y_test                   ndarray                   6x1: 6 elems, type `float64`, 48 bytes\n",
      "y_train                  ndarray                   24x1: 24 elems, type `float64`, 192 bytes\n"
     ]
    }
   ],
   "source": [
    "# Prints out all the Python variables from the Jupyter Notebook\n",
    "%whos"
   ]
  },
  {
   "cell_type": "code",
   "execution_count": null,
   "id": "0d82a06b",
   "metadata": {},
   "outputs": [],
   "source": []
  }
 ],
 "metadata": {
  "kernelspec": {
   "display_name": "Python 3 (ipykernel)",
   "language": "python",
   "name": "python3"
  },
  "language_info": {
   "codemirror_mode": {
    "name": "ipython",
    "version": 3
   },
   "file_extension": ".py",
   "mimetype": "text/x-python",
   "name": "python",
   "nbconvert_exporter": "python",
   "pygments_lexer": "ipython3",
   "version": "3.9.13"
  }
 },
 "nbformat": 4,
 "nbformat_minor": 5
}
