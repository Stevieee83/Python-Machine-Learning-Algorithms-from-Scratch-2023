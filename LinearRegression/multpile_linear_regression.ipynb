{
 "cells": [
  {
   "cell_type": "markdown",
   "id": "bf8fd7f6",
   "metadata": {},
   "source": [
    "# Linear Regression from Scratch in Python\n",
    "In the Jupyter Notebook, a linear regression machine learning algorithm using Python programming is implemented from scratch for educational purposes. The linear regression model makes predictions about a person's salary. If an employee has more experience and is older, the higher output salary is predicted from the model. The less experience and the younger an employee is the lower the salary output prediction from the model. The ScikitLearn machine learning library with NumPy, Matplotlib, Pandas and Scipy has been used to pre-process the data and evaluate performance metrics from the linear regression model.\n",
    "The ScikitLearn linear regression algorithm has been implemented at the end of the Jupyter Notebook to compare the evaluation test results against the Python linear regression algorithm.\n",
    "\n",
    "Although this is a very small dataset for a statistical model to make predictions on, it provides an introduction to machine learning algorithms and automatic differentiation. A larger dataset may return missing values (NaN) as output predictions over other linear regression algorithms written in software using well-optimised machine learning libraries such as ScikitLearn, Pytorch or TensorFlow. Larger datasets require optimised data loading software that is not added to the linear regression model object to reduce code complexity for educational purposes."
   ]
  },
  {
   "cell_type": "markdown",
   "id": "18a867a3",
   "metadata": {},
   "source": [
    "# 1. Linear Regression Object"
   ]
  },
  {
   "cell_type": "code",
   "execution_count": 1,
   "id": "00290ca7",
   "metadata": {},
   "outputs": [],
   "source": [
    "# Imports the NumPy library module\n",
    "import numpy as np\n",
    "\n",
    "# Linear Regression Python class object\n",
    "class LinearRegression:\n",
    "    \"\"\"Linear Regression (LR) model in Python from scratch.\n",
    "       The code comments throughout the LR model explain the code.\n",
    "       Object Parameters:\n",
    "       x = features of the dataset\n",
    "       y = target values of the dataset\n",
    "       Learning Rate (lr)\n",
    "       Number of Iterations (n_iters)\n",
    "       x, y, LR and n_iters can be set as hyperparameters to train the\n",
    "       model on different datasets.\n",
    "    \"\"\"\n",
    "\n",
    "    # Linear Regression Python object constructor\n",
    "    def __init__(self, x, y, lr=0.01, n_iters=10000):\n",
    "        self.features = x           # Stores the features from the dataset\n",
    "        self.target = y             # Stores the target values y from the dataset\n",
    "        self.lr = lr                # Learning rate\n",
    "        self.n_iters = n_iters      # Number of iterations\n",
    "        self.weights = None         # Initialises the weights to 0 and stores their values\n",
    "        self.bias = None            # Initialises the bias to 0 and stores their values\n",
    "        self.n_samples = len(x)     # Sets the number of samples to the length of the features x\n",
    "\n",
    "    # Python method to fit the data to the Multiple Linear Regression model\n",
    "    def fit(self):\n",
    "        '''\n",
    "        Fit method to train the linear regression model.\n",
    "        '''\n",
    "\n",
    "        # Initialize weights and bias to zero values\n",
    "        self.weights = np.zeros(self.features.shape[1])\n",
    "        self.bias = 0\n",
    "\n",
    "        # Gradient Descent implementation\n",
    "        for i in range(self.n_iters):\n",
    "            # Line equation that stores the predictions of the LR model during training\n",
    "            y_pred = np.dot(self.features, self.weights) + self.bias\n",
    "\n",
    "            # Calculate derivatives of the weights and bias\n",
    "            dw = (1 / self.n_samples) * (2 * np.dot(self.features.T, (y_pred - self.target)))\n",
    "            db = (1 / self.n_samples) * (2 * np.sum(y_pred - self.target))\n",
    "\n",
    "            # Updates the weights and the bias of the LR during training\n",
    "            self.weights = self.weights - self.lr * dw\n",
    "            self.bias = self.bias - self.lr * db\n",
    "\n",
    "    # Python prediction method for the LR algorithm\n",
    "    def predict(self, X):\n",
    "        ''' Makes predictions using the line equation.\n",
    "            X: features from the dataset (X_test)\n",
    "        '''\n",
    "\n",
    "        # Returns the prediction made from the LR model\n",
    "        return np.dot(X, self.weights) + self.bias"
   ]
  },
  {
   "cell_type": "markdown",
   "id": "8bebd2fa",
   "metadata": {},
   "source": [
    "# 2. Load the Dataset\n",
    "\n",
    "Dataset Available from Kaggle:\n",
    "\n",
    "https://www.kaggle.com/datasets/hussainnasirkhan/multiple-linear-regression-dataset"
   ]
  },
  {
   "cell_type": "code",
   "execution_count": 2,
   "id": "a4ef7f4e",
   "metadata": {},
   "outputs": [
    {
     "data": {
      "text/html": [
       "<div>\n",
       "<style scoped>\n",
       "    .dataframe tbody tr th:only-of-type {\n",
       "        vertical-align: middle;\n",
       "    }\n",
       "\n",
       "    .dataframe tbody tr th {\n",
       "        vertical-align: top;\n",
       "    }\n",
       "\n",
       "    .dataframe thead th {\n",
       "        text-align: right;\n",
       "    }\n",
       "</style>\n",
       "<table border=\"1\" class=\"dataframe\">\n",
       "  <thead>\n",
       "    <tr style=\"text-align: right;\">\n",
       "      <th></th>\n",
       "      <th>age</th>\n",
       "      <th>experience</th>\n",
       "      <th>income</th>\n",
       "    </tr>\n",
       "  </thead>\n",
       "  <tbody>\n",
       "    <tr>\n",
       "      <th>0</th>\n",
       "      <td>25</td>\n",
       "      <td>1</td>\n",
       "      <td>30450</td>\n",
       "    </tr>\n",
       "    <tr>\n",
       "      <th>1</th>\n",
       "      <td>30</td>\n",
       "      <td>3</td>\n",
       "      <td>35670</td>\n",
       "    </tr>\n",
       "    <tr>\n",
       "      <th>2</th>\n",
       "      <td>47</td>\n",
       "      <td>2</td>\n",
       "      <td>31580</td>\n",
       "    </tr>\n",
       "    <tr>\n",
       "      <th>3</th>\n",
       "      <td>32</td>\n",
       "      <td>5</td>\n",
       "      <td>40130</td>\n",
       "    </tr>\n",
       "    <tr>\n",
       "      <th>4</th>\n",
       "      <td>43</td>\n",
       "      <td>10</td>\n",
       "      <td>47830</td>\n",
       "    </tr>\n",
       "    <tr>\n",
       "      <th>5</th>\n",
       "      <td>51</td>\n",
       "      <td>7</td>\n",
       "      <td>41630</td>\n",
       "    </tr>\n",
       "    <tr>\n",
       "      <th>6</th>\n",
       "      <td>28</td>\n",
       "      <td>5</td>\n",
       "      <td>41340</td>\n",
       "    </tr>\n",
       "    <tr>\n",
       "      <th>7</th>\n",
       "      <td>33</td>\n",
       "      <td>4</td>\n",
       "      <td>37650</td>\n",
       "    </tr>\n",
       "    <tr>\n",
       "      <th>8</th>\n",
       "      <td>37</td>\n",
       "      <td>5</td>\n",
       "      <td>40250</td>\n",
       "    </tr>\n",
       "    <tr>\n",
       "      <th>9</th>\n",
       "      <td>39</td>\n",
       "      <td>8</td>\n",
       "      <td>45150</td>\n",
       "    </tr>\n",
       "    <tr>\n",
       "      <th>10</th>\n",
       "      <td>29</td>\n",
       "      <td>1</td>\n",
       "      <td>27840</td>\n",
       "    </tr>\n",
       "    <tr>\n",
       "      <th>11</th>\n",
       "      <td>47</td>\n",
       "      <td>9</td>\n",
       "      <td>46110</td>\n",
       "    </tr>\n",
       "    <tr>\n",
       "      <th>12</th>\n",
       "      <td>54</td>\n",
       "      <td>5</td>\n",
       "      <td>36720</td>\n",
       "    </tr>\n",
       "    <tr>\n",
       "      <th>13</th>\n",
       "      <td>51</td>\n",
       "      <td>4</td>\n",
       "      <td>34800</td>\n",
       "    </tr>\n",
       "    <tr>\n",
       "      <th>14</th>\n",
       "      <td>44</td>\n",
       "      <td>12</td>\n",
       "      <td>51300</td>\n",
       "    </tr>\n",
       "    <tr>\n",
       "      <th>15</th>\n",
       "      <td>41</td>\n",
       "      <td>6</td>\n",
       "      <td>38900</td>\n",
       "    </tr>\n",
       "    <tr>\n",
       "      <th>16</th>\n",
       "      <td>58</td>\n",
       "      <td>17</td>\n",
       "      <td>63600</td>\n",
       "    </tr>\n",
       "    <tr>\n",
       "      <th>17</th>\n",
       "      <td>23</td>\n",
       "      <td>1</td>\n",
       "      <td>30870</td>\n",
       "    </tr>\n",
       "    <tr>\n",
       "      <th>18</th>\n",
       "      <td>44</td>\n",
       "      <td>9</td>\n",
       "      <td>44190</td>\n",
       "    </tr>\n",
       "    <tr>\n",
       "      <th>19</th>\n",
       "      <td>37</td>\n",
       "      <td>10</td>\n",
       "      <td>48700</td>\n",
       "    </tr>\n",
       "  </tbody>\n",
       "</table>\n",
       "</div>"
      ],
      "text/plain": [
       "    age  experience  income\n",
       "0    25           1   30450\n",
       "1    30           3   35670\n",
       "2    47           2   31580\n",
       "3    32           5   40130\n",
       "4    43          10   47830\n",
       "5    51           7   41630\n",
       "6    28           5   41340\n",
       "7    33           4   37650\n",
       "8    37           5   40250\n",
       "9    39           8   45150\n",
       "10   29           1   27840\n",
       "11   47           9   46110\n",
       "12   54           5   36720\n",
       "13   51           4   34800\n",
       "14   44          12   51300\n",
       "15   41           6   38900\n",
       "16   58          17   63600\n",
       "17   23           1   30870\n",
       "18   44           9   44190\n",
       "19   37          10   48700"
      ]
     },
     "execution_count": 2,
     "metadata": {},
     "output_type": "execute_result"
    }
   ],
   "source": [
    "# Imports the Pandas library to use in the Jupyter Notebook\n",
    "import pandas as pd\n",
    "\n",
    "# Load the data to the Jupyter Notebook\n",
    "df = pd.read_csv('./dataset/multiple_linear_regression_dataset.csv')\n",
    "\n",
    "df"
   ]
  },
  {
   "cell_type": "code",
   "execution_count": 3,
   "id": "9c9ae77c",
   "metadata": {},
   "outputs": [
    {
     "data": {
      "text/plain": [
       "0     30450\n",
       "1     35670\n",
       "2     31580\n",
       "3     40130\n",
       "4     47830\n",
       "5     41630\n",
       "6     41340\n",
       "7     37650\n",
       "8     40250\n",
       "9     45150\n",
       "10    27840\n",
       "11    46110\n",
       "12    36720\n",
       "13    34800\n",
       "14    51300\n",
       "15    38900\n",
       "16    63600\n",
       "17    30870\n",
       "18    44190\n",
       "19    48700\n",
       "Name: income, dtype: int64"
      ]
     },
     "execution_count": 3,
     "metadata": {},
     "output_type": "execute_result"
    }
   ],
   "source": [
    "# Seperate the target values from the dataset using the Pandas Pop method\n",
    "y = df.pop('income')\n",
    "\n",
    "y"
   ]
  },
  {
   "cell_type": "code",
   "execution_count": 4,
   "id": "db32b77a",
   "metadata": {},
   "outputs": [
    {
     "data": {
      "text/html": [
       "<div>\n",
       "<style scoped>\n",
       "    .dataframe tbody tr th:only-of-type {\n",
       "        vertical-align: middle;\n",
       "    }\n",
       "\n",
       "    .dataframe tbody tr th {\n",
       "        vertical-align: top;\n",
       "    }\n",
       "\n",
       "    .dataframe thead th {\n",
       "        text-align: right;\n",
       "    }\n",
       "</style>\n",
       "<table border=\"1\" class=\"dataframe\">\n",
       "  <thead>\n",
       "    <tr style=\"text-align: right;\">\n",
       "      <th></th>\n",
       "      <th>age</th>\n",
       "      <th>experience</th>\n",
       "    </tr>\n",
       "  </thead>\n",
       "  <tbody>\n",
       "    <tr>\n",
       "      <th>0</th>\n",
       "      <td>25</td>\n",
       "      <td>1</td>\n",
       "    </tr>\n",
       "    <tr>\n",
       "      <th>1</th>\n",
       "      <td>30</td>\n",
       "      <td>3</td>\n",
       "    </tr>\n",
       "    <tr>\n",
       "      <th>2</th>\n",
       "      <td>47</td>\n",
       "      <td>2</td>\n",
       "    </tr>\n",
       "    <tr>\n",
       "      <th>3</th>\n",
       "      <td>32</td>\n",
       "      <td>5</td>\n",
       "    </tr>\n",
       "    <tr>\n",
       "      <th>4</th>\n",
       "      <td>43</td>\n",
       "      <td>10</td>\n",
       "    </tr>\n",
       "    <tr>\n",
       "      <th>5</th>\n",
       "      <td>51</td>\n",
       "      <td>7</td>\n",
       "    </tr>\n",
       "    <tr>\n",
       "      <th>6</th>\n",
       "      <td>28</td>\n",
       "      <td>5</td>\n",
       "    </tr>\n",
       "    <tr>\n",
       "      <th>7</th>\n",
       "      <td>33</td>\n",
       "      <td>4</td>\n",
       "    </tr>\n",
       "    <tr>\n",
       "      <th>8</th>\n",
       "      <td>37</td>\n",
       "      <td>5</td>\n",
       "    </tr>\n",
       "    <tr>\n",
       "      <th>9</th>\n",
       "      <td>39</td>\n",
       "      <td>8</td>\n",
       "    </tr>\n",
       "    <tr>\n",
       "      <th>10</th>\n",
       "      <td>29</td>\n",
       "      <td>1</td>\n",
       "    </tr>\n",
       "    <tr>\n",
       "      <th>11</th>\n",
       "      <td>47</td>\n",
       "      <td>9</td>\n",
       "    </tr>\n",
       "    <tr>\n",
       "      <th>12</th>\n",
       "      <td>54</td>\n",
       "      <td>5</td>\n",
       "    </tr>\n",
       "    <tr>\n",
       "      <th>13</th>\n",
       "      <td>51</td>\n",
       "      <td>4</td>\n",
       "    </tr>\n",
       "    <tr>\n",
       "      <th>14</th>\n",
       "      <td>44</td>\n",
       "      <td>12</td>\n",
       "    </tr>\n",
       "    <tr>\n",
       "      <th>15</th>\n",
       "      <td>41</td>\n",
       "      <td>6</td>\n",
       "    </tr>\n",
       "    <tr>\n",
       "      <th>16</th>\n",
       "      <td>58</td>\n",
       "      <td>17</td>\n",
       "    </tr>\n",
       "    <tr>\n",
       "      <th>17</th>\n",
       "      <td>23</td>\n",
       "      <td>1</td>\n",
       "    </tr>\n",
       "    <tr>\n",
       "      <th>18</th>\n",
       "      <td>44</td>\n",
       "      <td>9</td>\n",
       "    </tr>\n",
       "    <tr>\n",
       "      <th>19</th>\n",
       "      <td>37</td>\n",
       "      <td>10</td>\n",
       "    </tr>\n",
       "  </tbody>\n",
       "</table>\n",
       "</div>"
      ],
      "text/plain": [
       "    age  experience\n",
       "0    25           1\n",
       "1    30           3\n",
       "2    47           2\n",
       "3    32           5\n",
       "4    43          10\n",
       "5    51           7\n",
       "6    28           5\n",
       "7    33           4\n",
       "8    37           5\n",
       "9    39           8\n",
       "10   29           1\n",
       "11   47           9\n",
       "12   54           5\n",
       "13   51           4\n",
       "14   44          12\n",
       "15   41           6\n",
       "16   58          17\n",
       "17   23           1\n",
       "18   44           9\n",
       "19   37          10"
      ]
     },
     "execution_count": 4,
     "metadata": {},
     "output_type": "execute_result"
    }
   ],
   "source": [
    "# Displays the dataset features X to the screen\n",
    "X = df\n",
    "\n",
    "X"
   ]
  },
  {
   "cell_type": "markdown",
   "id": "2ecabc2e",
   "metadata": {},
   "source": [
    "# 3. Normalise the Data"
   ]
  },
  {
   "cell_type": "code",
   "execution_count": 5,
   "id": "3a0267c0",
   "metadata": {},
   "outputs": [
    {
     "data": {
      "text/plain": [
       "['age', 'experience']"
      ]
     },
     "execution_count": 5,
     "metadata": {},
     "output_type": "execute_result"
    }
   ],
   "source": [
    "# Convert column names to a list\n",
    "list_numerical = X.columns.tolist()\n",
    "\n",
    "list_numerical"
   ]
  },
  {
   "cell_type": "code",
   "execution_count": 6,
   "id": "2980c803",
   "metadata": {},
   "outputs": [],
   "source": [
    "# Python method to normalise the features X of the dataset \n",
    "def get_scale(list_numerical, X):\n",
    "    \n",
    "    # Import the StandardScaler object from ScikitLearn to normalise the data\n",
    "    from sklearn.preprocessing import StandardScaler\n",
    "    \n",
    "    # Creates the StandardScaler object from ScikitLearn\n",
    "    scaler = StandardScaler().fit(X[list_numerical]) \n",
    "\n",
    "    # Fits the normalisation to the dataset features X\n",
    "    X[list_numerical] = scaler.transform(X[list_numerical])\n",
    "\n",
    "    # Returns the normalised dataset features X\n",
    "    return X"
   ]
  },
  {
   "cell_type": "code",
   "execution_count": 7,
   "id": "90d29b97",
   "metadata": {},
   "outputs": [
    {
     "data": {
      "text/html": [
       "<div>\n",
       "<style scoped>\n",
       "    .dataframe tbody tr th:only-of-type {\n",
       "        vertical-align: middle;\n",
       "    }\n",
       "\n",
       "    .dataframe tbody tr th {\n",
       "        vertical-align: top;\n",
       "    }\n",
       "\n",
       "    .dataframe thead th {\n",
       "        text-align: right;\n",
       "    }\n",
       "</style>\n",
       "<table border=\"1\" class=\"dataframe\">\n",
       "  <thead>\n",
       "    <tr style=\"text-align: right;\">\n",
       "      <th></th>\n",
       "      <th>age</th>\n",
       "      <th>experience</th>\n",
       "    </tr>\n",
       "  </thead>\n",
       "  <tbody>\n",
       "    <tr>\n",
       "      <th>0</th>\n",
       "      <td>-1.498903</td>\n",
       "      <td>-1.293548</td>\n",
       "    </tr>\n",
       "    <tr>\n",
       "      <th>1</th>\n",
       "      <td>-0.987332</td>\n",
       "      <td>-0.796030</td>\n",
       "    </tr>\n",
       "    <tr>\n",
       "      <th>2</th>\n",
       "      <td>0.752009</td>\n",
       "      <td>-1.044789</td>\n",
       "    </tr>\n",
       "    <tr>\n",
       "      <th>3</th>\n",
       "      <td>-0.782703</td>\n",
       "      <td>-0.298511</td>\n",
       "    </tr>\n",
       "    <tr>\n",
       "      <th>4</th>\n",
       "      <td>0.342752</td>\n",
       "      <td>0.945285</td>\n",
       "    </tr>\n",
       "    <tr>\n",
       "      <th>5</th>\n",
       "      <td>1.161266</td>\n",
       "      <td>0.199007</td>\n",
       "    </tr>\n",
       "    <tr>\n",
       "      <th>6</th>\n",
       "      <td>-1.191960</td>\n",
       "      <td>-0.298511</td>\n",
       "    </tr>\n",
       "    <tr>\n",
       "      <th>7</th>\n",
       "      <td>-0.680389</td>\n",
       "      <td>-0.547270</td>\n",
       "    </tr>\n",
       "    <tr>\n",
       "      <th>8</th>\n",
       "      <td>-0.271133</td>\n",
       "      <td>-0.298511</td>\n",
       "    </tr>\n",
       "    <tr>\n",
       "      <th>9</th>\n",
       "      <td>-0.066504</td>\n",
       "      <td>0.447767</td>\n",
       "    </tr>\n",
       "    <tr>\n",
       "      <th>10</th>\n",
       "      <td>-1.089646</td>\n",
       "      <td>-1.293548</td>\n",
       "    </tr>\n",
       "    <tr>\n",
       "      <th>11</th>\n",
       "      <td>0.752009</td>\n",
       "      <td>0.696526</td>\n",
       "    </tr>\n",
       "    <tr>\n",
       "      <th>12</th>\n",
       "      <td>1.468208</td>\n",
       "      <td>-0.298511</td>\n",
       "    </tr>\n",
       "    <tr>\n",
       "      <th>13</th>\n",
       "      <td>1.161266</td>\n",
       "      <td>-0.547270</td>\n",
       "    </tr>\n",
       "    <tr>\n",
       "      <th>14</th>\n",
       "      <td>0.445067</td>\n",
       "      <td>1.442804</td>\n",
       "    </tr>\n",
       "    <tr>\n",
       "      <th>15</th>\n",
       "      <td>0.138124</td>\n",
       "      <td>-0.049752</td>\n",
       "    </tr>\n",
       "    <tr>\n",
       "      <th>16</th>\n",
       "      <td>1.877465</td>\n",
       "      <td>2.686600</td>\n",
       "    </tr>\n",
       "    <tr>\n",
       "      <th>17</th>\n",
       "      <td>-1.703531</td>\n",
       "      <td>-1.293548</td>\n",
       "    </tr>\n",
       "    <tr>\n",
       "      <th>18</th>\n",
       "      <td>0.445067</td>\n",
       "      <td>0.696526</td>\n",
       "    </tr>\n",
       "    <tr>\n",
       "      <th>19</th>\n",
       "      <td>-0.271133</td>\n",
       "      <td>0.945285</td>\n",
       "    </tr>\n",
       "  </tbody>\n",
       "</table>\n",
       "</div>"
      ],
      "text/plain": [
       "         age  experience\n",
       "0  -1.498903   -1.293548\n",
       "1  -0.987332   -0.796030\n",
       "2   0.752009   -1.044789\n",
       "3  -0.782703   -0.298511\n",
       "4   0.342752    0.945285\n",
       "5   1.161266    0.199007\n",
       "6  -1.191960   -0.298511\n",
       "7  -0.680389   -0.547270\n",
       "8  -0.271133   -0.298511\n",
       "9  -0.066504    0.447767\n",
       "10 -1.089646   -1.293548\n",
       "11  0.752009    0.696526\n",
       "12  1.468208   -0.298511\n",
       "13  1.161266   -0.547270\n",
       "14  0.445067    1.442804\n",
       "15  0.138124   -0.049752\n",
       "16  1.877465    2.686600\n",
       "17 -1.703531   -1.293548\n",
       "18  0.445067    0.696526\n",
       "19 -0.271133    0.945285"
      ]
     },
     "execution_count": 7,
     "metadata": {},
     "output_type": "execute_result"
    }
   ],
   "source": [
    "# Calls the get_scale Python method to normalise the dataset features X\n",
    "X = get_scale(list_numerical, X)\n",
    "\n",
    "X"
   ]
  },
  {
   "cell_type": "markdown",
   "id": "dd7825f8",
   "metadata": {},
   "source": [
    "# 4. Train Test Split"
   ]
  },
  {
   "cell_type": "code",
   "execution_count": 8,
   "id": "5d4129ba",
   "metadata": {
    "scrolled": true
   },
   "outputs": [
    {
     "data": {
      "text/html": [
       "<div>\n",
       "<style scoped>\n",
       "    .dataframe tbody tr th:only-of-type {\n",
       "        vertical-align: middle;\n",
       "    }\n",
       "\n",
       "    .dataframe tbody tr th {\n",
       "        vertical-align: top;\n",
       "    }\n",
       "\n",
       "    .dataframe thead th {\n",
       "        text-align: right;\n",
       "    }\n",
       "</style>\n",
       "<table border=\"1\" class=\"dataframe\">\n",
       "  <thead>\n",
       "    <tr style=\"text-align: right;\">\n",
       "      <th></th>\n",
       "      <th>age</th>\n",
       "      <th>experience</th>\n",
       "    </tr>\n",
       "  </thead>\n",
       "  <tbody>\n",
       "    <tr>\n",
       "      <th>8</th>\n",
       "      <td>-0.271133</td>\n",
       "      <td>-0.298511</td>\n",
       "    </tr>\n",
       "    <tr>\n",
       "      <th>5</th>\n",
       "      <td>1.161266</td>\n",
       "      <td>0.199007</td>\n",
       "    </tr>\n",
       "    <tr>\n",
       "      <th>11</th>\n",
       "      <td>0.752009</td>\n",
       "      <td>0.696526</td>\n",
       "    </tr>\n",
       "    <tr>\n",
       "      <th>3</th>\n",
       "      <td>-0.782703</td>\n",
       "      <td>-0.298511</td>\n",
       "    </tr>\n",
       "    <tr>\n",
       "      <th>18</th>\n",
       "      <td>0.445067</td>\n",
       "      <td>0.696526</td>\n",
       "    </tr>\n",
       "    <tr>\n",
       "      <th>16</th>\n",
       "      <td>1.877465</td>\n",
       "      <td>2.686600</td>\n",
       "    </tr>\n",
       "    <tr>\n",
       "      <th>13</th>\n",
       "      <td>1.161266</td>\n",
       "      <td>-0.547270</td>\n",
       "    </tr>\n",
       "    <tr>\n",
       "      <th>2</th>\n",
       "      <td>0.752009</td>\n",
       "      <td>-1.044789</td>\n",
       "    </tr>\n",
       "    <tr>\n",
       "      <th>9</th>\n",
       "      <td>-0.066504</td>\n",
       "      <td>0.447767</td>\n",
       "    </tr>\n",
       "    <tr>\n",
       "      <th>19</th>\n",
       "      <td>-0.271133</td>\n",
       "      <td>0.945285</td>\n",
       "    </tr>\n",
       "    <tr>\n",
       "      <th>4</th>\n",
       "      <td>0.342752</td>\n",
       "      <td>0.945285</td>\n",
       "    </tr>\n",
       "    <tr>\n",
       "      <th>12</th>\n",
       "      <td>1.468208</td>\n",
       "      <td>-0.298511</td>\n",
       "    </tr>\n",
       "    <tr>\n",
       "      <th>7</th>\n",
       "      <td>-0.680389</td>\n",
       "      <td>-0.547270</td>\n",
       "    </tr>\n",
       "    <tr>\n",
       "      <th>10</th>\n",
       "      <td>-1.089646</td>\n",
       "      <td>-1.293548</td>\n",
       "    </tr>\n",
       "    <tr>\n",
       "      <th>14</th>\n",
       "      <td>0.445067</td>\n",
       "      <td>1.442804</td>\n",
       "    </tr>\n",
       "    <tr>\n",
       "      <th>6</th>\n",
       "      <td>-1.191960</td>\n",
       "      <td>-0.298511</td>\n",
       "    </tr>\n",
       "  </tbody>\n",
       "</table>\n",
       "</div>"
      ],
      "text/plain": [
       "         age  experience\n",
       "8  -0.271133   -0.298511\n",
       "5   1.161266    0.199007\n",
       "11  0.752009    0.696526\n",
       "3  -0.782703   -0.298511\n",
       "18  0.445067    0.696526\n",
       "16  1.877465    2.686600\n",
       "13  1.161266   -0.547270\n",
       "2   0.752009   -1.044789\n",
       "9  -0.066504    0.447767\n",
       "19 -0.271133    0.945285\n",
       "4   0.342752    0.945285\n",
       "12  1.468208   -0.298511\n",
       "7  -0.680389   -0.547270\n",
       "10 -1.089646   -1.293548\n",
       "14  0.445067    1.442804\n",
       "6  -1.191960   -0.298511"
      ]
     },
     "execution_count": 8,
     "metadata": {},
     "output_type": "execute_result"
    }
   ],
   "source": [
    "# Imports the train test split method from ScikitLearn\n",
    "from sklearn.model_selection import train_test_split\n",
    "\n",
    "# Carry out a train, test split from ScikitLearn\n",
    "X_train, X_test, y_train, y_test = train_test_split(X, y, test_size=0.2, random_state=42)\n",
    "\n",
    "# Prints out the X_train features to the screen\n",
    "X_train"
   ]
  },
  {
   "cell_type": "code",
   "execution_count": 9,
   "id": "5e6a7ee1",
   "metadata": {},
   "outputs": [
    {
     "data": {
      "text/plain": [
       "8     40250\n",
       "5     41630\n",
       "11    46110\n",
       "3     40130\n",
       "18    44190\n",
       "16    63600\n",
       "13    34800\n",
       "2     31580\n",
       "9     45150\n",
       "19    48700\n",
       "4     47830\n",
       "12    36720\n",
       "7     37650\n",
       "10    27840\n",
       "14    51300\n",
       "6     41340\n",
       "Name: income, dtype: int64"
      ]
     },
     "execution_count": 9,
     "metadata": {},
     "output_type": "execute_result"
    }
   ],
   "source": [
    "# Prints out the y_train targets to the screen\n",
    "y_train"
   ]
  },
  {
   "cell_type": "code",
   "execution_count": 10,
   "id": "f5225de7",
   "metadata": {},
   "outputs": [
    {
     "data": {
      "text/html": [
       "<div>\n",
       "<style scoped>\n",
       "    .dataframe tbody tr th:only-of-type {\n",
       "        vertical-align: middle;\n",
       "    }\n",
       "\n",
       "    .dataframe tbody tr th {\n",
       "        vertical-align: top;\n",
       "    }\n",
       "\n",
       "    .dataframe thead th {\n",
       "        text-align: right;\n",
       "    }\n",
       "</style>\n",
       "<table border=\"1\" class=\"dataframe\">\n",
       "  <thead>\n",
       "    <tr style=\"text-align: right;\">\n",
       "      <th></th>\n",
       "      <th>age</th>\n",
       "      <th>experience</th>\n",
       "    </tr>\n",
       "  </thead>\n",
       "  <tbody>\n",
       "    <tr>\n",
       "      <th>0</th>\n",
       "      <td>-1.498903</td>\n",
       "      <td>-1.293548</td>\n",
       "    </tr>\n",
       "    <tr>\n",
       "      <th>17</th>\n",
       "      <td>-1.703531</td>\n",
       "      <td>-1.293548</td>\n",
       "    </tr>\n",
       "    <tr>\n",
       "      <th>15</th>\n",
       "      <td>0.138124</td>\n",
       "      <td>-0.049752</td>\n",
       "    </tr>\n",
       "    <tr>\n",
       "      <th>1</th>\n",
       "      <td>-0.987332</td>\n",
       "      <td>-0.796030</td>\n",
       "    </tr>\n",
       "  </tbody>\n",
       "</table>\n",
       "</div>"
      ],
      "text/plain": [
       "         age  experience\n",
       "0  -1.498903   -1.293548\n",
       "17 -1.703531   -1.293548\n",
       "15  0.138124   -0.049752\n",
       "1  -0.987332   -0.796030"
      ]
     },
     "execution_count": 10,
     "metadata": {},
     "output_type": "execute_result"
    }
   ],
   "source": [
    "# Prints out the X_test features to the screen\n",
    "X_test"
   ]
  },
  {
   "cell_type": "code",
   "execution_count": 11,
   "id": "881f9277",
   "metadata": {},
   "outputs": [
    {
     "data": {
      "text/plain": [
       "0     30450\n",
       "17    30870\n",
       "15    38900\n",
       "1     35670\n",
       "Name: income, dtype: int64"
      ]
     },
     "execution_count": 11,
     "metadata": {},
     "output_type": "execute_result"
    }
   ],
   "source": [
    "# Prints out the y_test targets to the screen\n",
    "y_test"
   ]
  },
  {
   "cell_type": "markdown",
   "id": "0ace17b8",
   "metadata": {},
   "source": [
    "# 5. Train the Linear Regression Model"
   ]
  },
  {
   "cell_type": "code",
   "execution_count": 12,
   "id": "1cb31f37",
   "metadata": {},
   "outputs": [],
   "source": [
    "# Creating the LinearRegression class object\n",
    "model = LinearRegression(X_train, y_train)\n",
    "\n",
    "# Train the model with the fit method\n",
    "model.fit()"
   ]
  },
  {
   "cell_type": "markdown",
   "id": "c9936a43",
   "metadata": {},
   "source": [
    "# 6. Make Predictions on the Test Dataset"
   ]
  },
  {
   "cell_type": "code",
   "execution_count": 13,
   "id": "f566b373",
   "metadata": {},
   "outputs": [
    {
     "data": {
      "text/plain": [
       "array([31093.38107376, 31295.49954076, 40250.46080162, 34897.6958918 ])"
      ]
     },
     "execution_count": 13,
     "metadata": {},
     "output_type": "execute_result"
    }
   ],
   "source": [
    "# Makes predictions on the test dataset X_test\n",
    "y_pred = model.predict(X_test)\n",
    "\n",
    "y_pred"
   ]
  },
  {
   "cell_type": "code",
   "execution_count": 14,
   "id": "7fbfdfd7",
   "metadata": {},
   "outputs": [
    {
     "data": {
      "text/plain": [
       "0     30450\n",
       "17    30870\n",
       "15    38900\n",
       "1     35670\n",
       "Name: income, dtype: int64"
      ]
     },
     "execution_count": 14,
     "metadata": {},
     "output_type": "execute_result"
    }
   ],
   "source": [
    "# Prints out the y_test variable to the screen\n",
    "y_test"
   ]
  },
  {
   "cell_type": "code",
   "execution_count": 15,
   "id": "565944d6",
   "metadata": {},
   "outputs": [
    {
     "data": {
      "text/plain": [
       "array([30450, 30870, 38900, 35670], dtype=int64)"
      ]
     },
     "execution_count": 15,
     "metadata": {},
     "output_type": "execute_result"
    }
   ],
   "source": [
    "# Flattens the y_test 2D array to 1D and stores it in the y variable\n",
    "y = y_test.values.flatten()\n",
    "\n",
    "y"
   ]
  },
  {
   "cell_type": "markdown",
   "id": "099e466b",
   "metadata": {},
   "source": [
    "# 7. PLCC, SRCC and KRCC Correlation Performance Metrics Method"
   ]
  },
  {
   "cell_type": "code",
   "execution_count": 16,
   "id": "cb7cedb0",
   "metadata": {},
   "outputs": [],
   "source": [
    "# Python method to calculate correlation coefficient metrics\n",
    "def correlation(X, y):\n",
    "    \n",
    "    # Import Scipy libraray\n",
    "    import scipy.stats\n",
    "    \n",
    "    # Calculate Pearson's Linear Correlation Coefficient with Scipy\n",
    "    PLCC = scipy.stats.pearsonr(X, y)[0]    # Pearson's r\n",
    "\n",
    "    # Calculate Spearman Rank Correlation Coefficient (SRCC) with Scipy\n",
    "    SRCC = scipy.stats.spearmanr(X, y)[0]   # Spearman's rho\n",
    "\n",
    "    # Calculate Kendalls Rank Correlation Coefficient (KRCC) with Scipy\n",
    "    KRCC = scipy.stats.kendalltau(X, y)[0]  # Kendall's tau\n",
    "    \n",
    "    # Prints out the correlation performance metric results to the screen\n",
    "    print(\"PLCC: \", PLCC)\n",
    "    print(\"SRCC: \", SRCC)\n",
    "    print(\"KRCC: \", KRCC)"
   ]
  },
  {
   "cell_type": "markdown",
   "id": "cf8afe97",
   "metadata": {},
   "source": [
    "# 8. Evaluate PLCC, SRCC and KRCC Performance Metrics"
   ]
  },
  {
   "cell_type": "code",
   "execution_count": 17,
   "id": "13270239",
   "metadata": {},
   "outputs": [
    {
     "name": "stdout",
     "output_type": "stream",
     "text": [
      "PLCC:  0.9791244408611758\n",
      "SRCC:  1.0\n",
      "KRCC:  1.0\n"
     ]
    }
   ],
   "source": [
    "# Calls the correlation coefficient Python method to calculate PLCC, SRCC, and KRCC\n",
    "# with SciPy\n",
    "correlation(y_pred, y)"
   ]
  },
  {
   "cell_type": "markdown",
   "id": "c054f38a",
   "metadata": {},
   "source": [
    "# Root Mean Square Error (RMSE)"
   ]
  },
  {
   "cell_type": "code",
   "execution_count": 18,
   "id": "5d7c9497",
   "metadata": {},
   "outputs": [
    {
     "data": {
      "text/plain": [
       "868.2147023480362"
      ]
     },
     "execution_count": 18,
     "metadata": {},
     "output_type": "execute_result"
    }
   ],
   "source": [
    "# Imports the mean_squared_error method from ScikitLearn\n",
    "from sklearn.metrics import mean_squared_error\n",
    "\n",
    "# Calls the Mean Squared Error method from ScikitLearn\n",
    "rmse = mean_squared_error(y_pred, y)\n",
    "\n",
    "# Prints out the RMSE value to the screen\n",
    "np.sqrt(rmse)"
   ]
  },
  {
   "cell_type": "markdown",
   "id": "5223d641",
   "metadata": {},
   "source": [
    "# R2 Score"
   ]
  },
  {
   "cell_type": "code",
   "execution_count": 19,
   "id": "6ba82aa7",
   "metadata": {},
   "outputs": [
    {
     "data": {
      "text/plain": [
       "0.9452244815314687"
      ]
     },
     "execution_count": 19,
     "metadata": {},
     "output_type": "execute_result"
    }
   ],
   "source": [
    "# Imports the r2_score method from ScikitLearn\n",
    "from sklearn.metrics import r2_score\n",
    "\n",
    "# Calls the R2 Score method from ScikitLearn\n",
    "r2 = r2_score(y_pred, y)\n",
    "\n",
    "# Prints out the R2 Score value to the screen\n",
    "r2"
   ]
  },
  {
   "cell_type": "markdown",
   "id": "d0112b2f",
   "metadata": {},
   "source": [
    "# 9. Test on the ScikitLearn Linear Regression Model"
   ]
  },
  {
   "cell_type": "code",
   "execution_count": 20,
   "id": "eacb89d7",
   "metadata": {},
   "outputs": [],
   "source": [
    "# Imports the Linear Regression model from ScikitLearn\n",
    "from sklearn.linear_model import LinearRegression\n",
    "\n",
    "# Trains the ScikitLEarn Linear Regression model\n",
    "model = LinearRegression().fit(X_train, y_train)"
   ]
  },
  {
   "cell_type": "markdown",
   "id": "34876c7f",
   "metadata": {},
   "source": [
    "# 10. Make Predictions"
   ]
  },
  {
   "cell_type": "code",
   "execution_count": 21,
   "id": "f646e6a4",
   "metadata": {},
   "outputs": [
    {
     "data": {
      "text/plain": [
       "array([31093.38107376, 31295.49954076, 40250.46080162, 34897.6958918 ])"
      ]
     },
     "execution_count": 21,
     "metadata": {},
     "output_type": "execute_result"
    }
   ],
   "source": [
    "# Makes predictions on the Linear Regression model\n",
    "y_pred = model.predict(X_test)\n",
    "\n",
    "y_pred"
   ]
  },
  {
   "cell_type": "code",
   "execution_count": 22,
   "id": "37fd8fea",
   "metadata": {},
   "outputs": [
    {
     "data": {
      "text/plain": [
       "array([31093.38107376, 31295.49954076, 40250.46080162, 34897.6958918 ])"
      ]
     },
     "execution_count": 22,
     "metadata": {},
     "output_type": "execute_result"
    }
   ],
   "source": [
    "# Flattens the 2D pred array to 1D from the model and stores it in the flat Python variable\n",
    "flat = y_pred.flatten()\n",
    "\n",
    "flat"
   ]
  },
  {
   "cell_type": "code",
   "execution_count": 23,
   "id": "f5e15842",
   "metadata": {},
   "outputs": [
    {
     "data": {
      "text/plain": [
       "0     30450\n",
       "17    30870\n",
       "15    38900\n",
       "1     35670\n",
       "Name: income, dtype: int64"
      ]
     },
     "execution_count": 23,
     "metadata": {},
     "output_type": "execute_result"
    }
   ],
   "source": [
    "# Prints out the y_test variable to the screen\n",
    "y_test"
   ]
  },
  {
   "cell_type": "code",
   "execution_count": 24,
   "id": "63969801",
   "metadata": {},
   "outputs": [
    {
     "data": {
      "text/plain": [
       "array([30450, 30870, 38900, 35670], dtype=int64)"
      ]
     },
     "execution_count": 24,
     "metadata": {},
     "output_type": "execute_result"
    }
   ],
   "source": [
    "# Flattens the y_test 2D array to 1D and stores it in the y variable\n",
    "y = y_test.values.flatten()\n",
    "\n",
    "y"
   ]
  },
  {
   "cell_type": "markdown",
   "id": "9a83a1a7",
   "metadata": {},
   "source": [
    "# 11. Test the ScikitLearn Linear Regression Model"
   ]
  },
  {
   "cell_type": "code",
   "execution_count": 25,
   "id": "1094c963",
   "metadata": {},
   "outputs": [
    {
     "name": "stdout",
     "output_type": "stream",
     "text": [
      "PLCC:  0.9791244408611761\n",
      "SRCC:  1.0\n",
      "KRCC:  1.0\n"
     ]
    }
   ],
   "source": [
    "# Calls the correlation coefficient Python method to calculate PLCC, SRCC, and KRCC\n",
    "# with SciPy\n",
    "correlation(flat, y)"
   ]
  },
  {
   "cell_type": "markdown",
   "id": "c542bc76",
   "metadata": {},
   "source": [
    "# Root Mean Square Error (RMSE)"
   ]
  },
  {
   "cell_type": "code",
   "execution_count": 26,
   "id": "53086463",
   "metadata": {},
   "outputs": [
    {
     "data": {
      "text/plain": [
       "868.2147023481325"
      ]
     },
     "execution_count": 26,
     "metadata": {},
     "output_type": "execute_result"
    }
   ],
   "source": [
    "# Imports the mean_squared_error method from ScikitLearn\n",
    "from sklearn.metrics import mean_squared_error\n",
    "\n",
    "# Calls the Mean Squared Error method from ScikitLearn\n",
    "rmse = mean_squared_error(flat, y)\n",
    "\n",
    "# Prints out the RMSE value to the screen\n",
    "np.sqrt(rmse)"
   ]
  },
  {
   "cell_type": "markdown",
   "id": "c1f35ebb",
   "metadata": {},
   "source": [
    "# R2 Score"
   ]
  },
  {
   "cell_type": "code",
   "execution_count": 27,
   "id": "9151a470",
   "metadata": {},
   "outputs": [
    {
     "data": {
      "text/plain": [
       "0.9452244815314554"
      ]
     },
     "execution_count": 27,
     "metadata": {},
     "output_type": "execute_result"
    }
   ],
   "source": [
    "# Imports the r2_score method from ScikitLearn\n",
    "from sklearn.metrics import r2_score\n",
    "\n",
    "# Calls the R2 Score method from ScikitLearn\n",
    "r2 = r2_score(flat, y)\n",
    "\n",
    "# Prints out the R2 Score value to the screen\n",
    "r2"
   ]
  },
  {
   "cell_type": "markdown",
   "id": "55a525ee",
   "metadata": {},
   "source": [
    "# 12. Display Jupyter Notebook Python Variables"
   ]
  },
  {
   "cell_type": "code",
   "execution_count": 28,
   "id": "f58dc2b2",
   "metadata": {},
   "outputs": [
    {
     "name": "stdout",
     "output_type": "stream",
     "text": [
      "Variable             Type                Data/Info\n",
      "--------------------------------------------------\n",
      "LinearRegression     ABCMeta             <class 'sklearn.linear_mo<...>._base.LinearRegression'>\n",
      "X                    DataFrame                    age  experience\\<...>n19 -0.271133    0.945285\n",
      "X_test               DataFrame                    age  experience\\<...>n1  -0.987332   -0.796030\n",
      "X_train              DataFrame                    age  experience\\<...>n6  -1.191960   -0.298511\n",
      "correlation          function            <function correlation at 0x00000226D5E643A0>\n",
      "df                   DataFrame                    age  experience\\<...>n19 -0.271133    0.945285\n",
      "flat                 ndarray             4: 4 elems, type `float64`, 32 bytes\n",
      "get_scale            function            <function get_scale at 0x00000226D3835C10>\n",
      "list_numerical       list                n=2\n",
      "mean_squared_error   function            <function mean_squared_er<...>or at 0x00000226D5D938B0>\n",
      "model                LinearRegression    LinearRegression()\n",
      "np                   module              <module 'numpy' from 'C:\\<...>ges\\\\numpy\\\\__init__.py'>\n",
      "pd                   module              <module 'pandas' from 'C:<...>es\\\\pandas\\\\__init__.py'>\n",
      "r2                   float64             0.9452244815314554\n",
      "r2_score             function            <function r2_score at 0x00000226D5D93B80>\n",
      "rmse                 float64             753796.7693734562\n",
      "train_test_split     function            <function train_test_split at 0x00000226D5CFF8B0>\n",
      "y                    ndarray             4: 4 elems, type `int64`, 32 bytes\n",
      "y_pred               ndarray             4: 4 elems, type `float64`, 32 bytes\n",
      "y_test               Series              0     30450\\n17    30870\\<...>ame: income, dtype: int64\n",
      "y_train              Series              8     40250\\n5     41630\\<...>ame: income, dtype: int64\n"
     ]
    }
   ],
   "source": [
    "# Prints out all the Python variables from the Jupyter Notebook\n",
    "%whos"
   ]
  },
  {
   "cell_type": "code",
   "execution_count": null,
   "id": "2fd5ecc7",
   "metadata": {},
   "outputs": [],
   "source": []
  }
 ],
 "metadata": {
  "kernelspec": {
   "display_name": "Python 3 (ipykernel)",
   "language": "python",
   "name": "python3"
  },
  "language_info": {
   "codemirror_mode": {
    "name": "ipython",
    "version": 3
   },
   "file_extension": ".py",
   "mimetype": "text/x-python",
   "name": "python",
   "nbconvert_exporter": "python",
   "pygments_lexer": "ipython3",
   "version": "3.9.13"
  }
 },
 "nbformat": 4,
 "nbformat_minor": 5
}
