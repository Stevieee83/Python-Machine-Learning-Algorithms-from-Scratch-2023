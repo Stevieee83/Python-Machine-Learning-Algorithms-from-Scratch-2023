{
 "cells": [
  {
   "cell_type": "markdown",
   "id": "d6d630eb",
   "metadata": {},
   "source": [
    "# Lasso Regression from Scratch in Python¶\n",
    "\n",
    "In the Jupyter Notebook, a Lasso regression machine learning algorithm using Python programming is implemented from scratch for educational purposes. The Lasso regression model makes predictions about a person's salary. If an employee has more experience and is older, the higher output salary is predicted from the model. The less experience and the younger an employee is the lower the salary output prediction from the model. The ScikitLearn machine learning library with NumPy, Matplotlib, Pandas and Scipy has been used to pre-process the data and evaluate performance metrics from the Lasso regression model. The ScikitLearn Lasso regression algorithm has been implemented at the end of the Jupyter Notebook to compare the evaluation test results against the Python Lasso regression algorithm.\n",
    "\n",
    "The Lasso regression algorithm adds an L1 regularisation penalty to the model to reduce overfitting. L1 regularisation is where the absolute magnitudes of the model weights is added to the result of the least squares cost function during model training.\n",
    "\n",
    "Although this is a very small dataset for a statistical model to make predictions on, it provides an introduction to machine learning algorithms and automatic differentiation. A larger dataset may return missing values (NaN) as output predictions over other Lasso regression algorithms written in software using well-optimised machine learning libraries such as ScikitLearn, Pytorch or TensorFlow. Larger datasets require optimised data loading software that is not added to the Lasso regression model object to reduce code complexity for educational purposes.\n"
   ]
  },
  {
   "cell_type": "markdown",
   "id": "ee6af8cc",
   "metadata": {},
   "source": [
    "# 1. Lasso Regression Object"
   ]
  },
  {
   "cell_type": "code",
   "execution_count": 1,
   "id": "5999e948",
   "metadata": {},
   "outputs": [],
   "source": [
    "import numpy as np\n",
    "\n",
    "# Regression class object to prcess continious data\n",
    "class Regression:\n",
    "    \n",
    "    # Regression class constructor\n",
    "    def __init__(self, regularization, lr, n_iters):\n",
    "        self.n_samples = None # Dataset samples\n",
    "        self.features = None # Features from the dataset\n",
    "        self.weights = None # weight parameters\n",
    "        self.bias = None # bias parameter\n",
    "        self.regularization = regularization # rgularisation\n",
    "        self.lr = lr # learning rate\n",
    "        self.n_iters = n_iters # iterations\n",
    "        \n",
    "    # Regression class cost function to calculate the loss of the model to determine the performance\n",
    "    def __calculate_cost(self, y, y_pred):\n",
    "        \n",
    "        # Calculates the cost of the regression model during training and returns the cost value\n",
    "        return (1 / (2*self.n_samples)) * np.sum(np.square(y_pred-y)) + self.regularization(self.weights)\n",
    "        \n",
    "    # Python fit method to fit the regression model during training\n",
    "    def fit(self, X, y):\n",
    "\n",
    "        # Retrieves the y_train target values dataset length in preperation for reshaping the dataset to 1 dimension\n",
    "        dim_1 = len(y)\n",
    "\n",
    "        # Reshapes the y_train target values for the Lasso Regression algorithm and converts it to a NumPy array\n",
    "        y = y.values.reshape(dim_1, 1)\n",
    "        \n",
    "        # Initialises the wieght parameters before training\n",
    "        X = np.insert(X, 0, 1, axis=1)\n",
    "        \n",
    "        # stores the number of samples and features from the dataset\n",
    "        self.n_samples, self.features = X.shape\n",
    "        \n",
    "        # Updates the weight parameters after initilization\n",
    "        self.weights = np.zeros((self.features,1))\n",
    "        \n",
    "        # Training loop for the regression model\n",
    "        for e in range(1, self.n_iters+1):\n",
    "            \n",
    "            # Stores the training predictions made by the regression model\n",
    "            y_pred = np.dot(X, self.weights)\n",
    "            \n",
    "            # Calculats the cost of the regression model during training\n",
    "            cost = self.__calculate_cost(y, y_pred)\n",
    "            \n",
    "            # Partial differentiation for the weigh parameters\n",
    "            dw = (1/self.n_samples) * np.dot(X.T, (y_pred - y)) + self.regularization.derivation(self.weights)\n",
    "            \n",
    "            # Updates the weight parameter after each training iteration\n",
    "            self.weights = self.weights - self.lr * dw\n",
    "            \n",
    "            # Prints the cost of hte regression model after every 100 iterations\n",
    "            if e % 100 == 0:\n",
    "                \n",
    "                # Print statement to print the cost to the screen with an F string\n",
    "                print(f\"The Cost in iteration {e}:\\t {cost}\")\n",
    "\n",
    "        # Prints out training complete to the screen\n",
    "        print(\"Training Complete\")\n",
    "        \n",
    "    # Python predict method to make predictions on the trained regression model at test time\n",
    "    def predict(self, X_test):\n",
    "        \n",
    "        # Reshapes the test dataset X_test for the regression model\n",
    "        X_test = np.insert(X_test, 0 , 1, axis= 1)\n",
    "        \n",
    "        # Stores the predictions made from the regression model at test time\n",
    "        y_pred = np.dot(X_test, self.weights)\n",
    "        \n",
    "        # Returns the predictions made from the regression model at test time\n",
    "        return y_pred"
   ]
  },
  {
   "cell_type": "code",
   "execution_count": 2,
   "id": "bae0e113",
   "metadata": {},
   "outputs": [],
   "source": [
    "# LassoPenalty class object\n",
    "class LassoPenalty:\n",
    "    \n",
    "    # LassoPenalty Class constructor\n",
    "    def __init__(self, l):\n",
    "        self.l = l # lambda regularization parameter\n",
    "        \n",
    "    # Calculats the regularization lambda parameter's absolute value\n",
    "    def __call__(self,w):\n",
    "        \n",
    "        # Returns the regularization lambda parameter's absolute value\n",
    "        return self.l * np.sum(np.abs(w))\n",
    "        \n",
    "    # Calculates the derivation of the Lasso regression model\n",
    "    def derivation(self, w):\n",
    "        \n",
    "        # Returns the derivation of the Lasso regression model\n",
    "        return self.l * np.sign(w)"
   ]
  },
  {
   "cell_type": "code",
   "execution_count": 3,
   "id": "ca13a828",
   "metadata": {},
   "outputs": [],
   "source": [
    "# Lasso regression Python object that inherits the regression class object\n",
    "class Lasso(Regression):\n",
    "    \n",
    "    # Lasso regression class constructor\n",
    "    def __init__(self, l, lr, n_iters):\n",
    "        \n",
    "        # Stores the regularization parameter lambda calculated by the LassoPenalty class object\n",
    "        self.regularization = LassoPenalty(l)\n",
    "        \n",
    "        # Calls the Regression class object to input the lambda regularisation poramter, \n",
    "        # learning rate and number of iterations (n_iters)\n",
    "        super().__init__(self.regularization, lr, n_iters)"
   ]
  },
  {
   "cell_type": "markdown",
   "id": "bf93f698",
   "metadata": {},
   "source": [
    "# 2. Load the Dataset\n",
    "\n",
    "Dataset Available from Kaggle:\n",
    "\n",
    "https://www.kaggle.com/datasets/hussainnasirkhan/multiple-linear-regression-dataset\n"
   ]
  },
  {
   "cell_type": "code",
   "execution_count": 4,
   "id": "2de8c352",
   "metadata": {},
   "outputs": [
    {
     "data": {
      "text/html": [
       "<div>\n",
       "<style scoped>\n",
       "    .dataframe tbody tr th:only-of-type {\n",
       "        vertical-align: middle;\n",
       "    }\n",
       "\n",
       "    .dataframe tbody tr th {\n",
       "        vertical-align: top;\n",
       "    }\n",
       "\n",
       "    .dataframe thead th {\n",
       "        text-align: right;\n",
       "    }\n",
       "</style>\n",
       "<table border=\"1\" class=\"dataframe\">\n",
       "  <thead>\n",
       "    <tr style=\"text-align: right;\">\n",
       "      <th></th>\n",
       "      <th>age</th>\n",
       "      <th>experience</th>\n",
       "      <th>income</th>\n",
       "    </tr>\n",
       "  </thead>\n",
       "  <tbody>\n",
       "    <tr>\n",
       "      <th>0</th>\n",
       "      <td>25</td>\n",
       "      <td>1</td>\n",
       "      <td>30450</td>\n",
       "    </tr>\n",
       "    <tr>\n",
       "      <th>1</th>\n",
       "      <td>30</td>\n",
       "      <td>3</td>\n",
       "      <td>35670</td>\n",
       "    </tr>\n",
       "    <tr>\n",
       "      <th>2</th>\n",
       "      <td>47</td>\n",
       "      <td>2</td>\n",
       "      <td>31580</td>\n",
       "    </tr>\n",
       "    <tr>\n",
       "      <th>3</th>\n",
       "      <td>32</td>\n",
       "      <td>5</td>\n",
       "      <td>40130</td>\n",
       "    </tr>\n",
       "    <tr>\n",
       "      <th>4</th>\n",
       "      <td>43</td>\n",
       "      <td>10</td>\n",
       "      <td>47830</td>\n",
       "    </tr>\n",
       "    <tr>\n",
       "      <th>5</th>\n",
       "      <td>51</td>\n",
       "      <td>7</td>\n",
       "      <td>41630</td>\n",
       "    </tr>\n",
       "    <tr>\n",
       "      <th>6</th>\n",
       "      <td>28</td>\n",
       "      <td>5</td>\n",
       "      <td>41340</td>\n",
       "    </tr>\n",
       "    <tr>\n",
       "      <th>7</th>\n",
       "      <td>33</td>\n",
       "      <td>4</td>\n",
       "      <td>37650</td>\n",
       "    </tr>\n",
       "    <tr>\n",
       "      <th>8</th>\n",
       "      <td>37</td>\n",
       "      <td>5</td>\n",
       "      <td>40250</td>\n",
       "    </tr>\n",
       "    <tr>\n",
       "      <th>9</th>\n",
       "      <td>39</td>\n",
       "      <td>8</td>\n",
       "      <td>45150</td>\n",
       "    </tr>\n",
       "    <tr>\n",
       "      <th>10</th>\n",
       "      <td>29</td>\n",
       "      <td>1</td>\n",
       "      <td>27840</td>\n",
       "    </tr>\n",
       "    <tr>\n",
       "      <th>11</th>\n",
       "      <td>47</td>\n",
       "      <td>9</td>\n",
       "      <td>46110</td>\n",
       "    </tr>\n",
       "    <tr>\n",
       "      <th>12</th>\n",
       "      <td>54</td>\n",
       "      <td>5</td>\n",
       "      <td>36720</td>\n",
       "    </tr>\n",
       "    <tr>\n",
       "      <th>13</th>\n",
       "      <td>51</td>\n",
       "      <td>4</td>\n",
       "      <td>34800</td>\n",
       "    </tr>\n",
       "    <tr>\n",
       "      <th>14</th>\n",
       "      <td>44</td>\n",
       "      <td>12</td>\n",
       "      <td>51300</td>\n",
       "    </tr>\n",
       "    <tr>\n",
       "      <th>15</th>\n",
       "      <td>41</td>\n",
       "      <td>6</td>\n",
       "      <td>38900</td>\n",
       "    </tr>\n",
       "    <tr>\n",
       "      <th>16</th>\n",
       "      <td>58</td>\n",
       "      <td>17</td>\n",
       "      <td>63600</td>\n",
       "    </tr>\n",
       "    <tr>\n",
       "      <th>17</th>\n",
       "      <td>23</td>\n",
       "      <td>1</td>\n",
       "      <td>30870</td>\n",
       "    </tr>\n",
       "    <tr>\n",
       "      <th>18</th>\n",
       "      <td>44</td>\n",
       "      <td>9</td>\n",
       "      <td>44190</td>\n",
       "    </tr>\n",
       "    <tr>\n",
       "      <th>19</th>\n",
       "      <td>37</td>\n",
       "      <td>10</td>\n",
       "      <td>48700</td>\n",
       "    </tr>\n",
       "  </tbody>\n",
       "</table>\n",
       "</div>"
      ],
      "text/plain": [
       "    age  experience  income\n",
       "0    25           1   30450\n",
       "1    30           3   35670\n",
       "2    47           2   31580\n",
       "3    32           5   40130\n",
       "4    43          10   47830\n",
       "5    51           7   41630\n",
       "6    28           5   41340\n",
       "7    33           4   37650\n",
       "8    37           5   40250\n",
       "9    39           8   45150\n",
       "10   29           1   27840\n",
       "11   47           9   46110\n",
       "12   54           5   36720\n",
       "13   51           4   34800\n",
       "14   44          12   51300\n",
       "15   41           6   38900\n",
       "16   58          17   63600\n",
       "17   23           1   30870\n",
       "18   44           9   44190\n",
       "19   37          10   48700"
      ]
     },
     "execution_count": 4,
     "metadata": {},
     "output_type": "execute_result"
    }
   ],
   "source": [
    "# Imports the Pandas library to use in the Jupyter Notebook\n",
    "import pandas as pd\n",
    "\n",
    "# Load the data to the Jupyter Notebook\n",
    "df = pd.read_csv('./dataset/multiple_linear_regression_dataset.csv')\n",
    "\n",
    "df"
   ]
  },
  {
   "cell_type": "code",
   "execution_count": 5,
   "id": "0ef87bd1",
   "metadata": {},
   "outputs": [
    {
     "data": {
      "text/plain": [
       "0     30450\n",
       "1     35670\n",
       "2     31580\n",
       "3     40130\n",
       "4     47830\n",
       "5     41630\n",
       "6     41340\n",
       "7     37650\n",
       "8     40250\n",
       "9     45150\n",
       "10    27840\n",
       "11    46110\n",
       "12    36720\n",
       "13    34800\n",
       "14    51300\n",
       "15    38900\n",
       "16    63600\n",
       "17    30870\n",
       "18    44190\n",
       "19    48700\n",
       "Name: income, dtype: int64"
      ]
     },
     "execution_count": 5,
     "metadata": {},
     "output_type": "execute_result"
    }
   ],
   "source": [
    "# Seperate the target values from the dataset using the Pandas Pop method\n",
    "y = df.pop('income')\n",
    "\n",
    "y"
   ]
  },
  {
   "cell_type": "code",
   "execution_count": 6,
   "id": "7f0ecfce",
   "metadata": {},
   "outputs": [
    {
     "data": {
      "text/html": [
       "<div>\n",
       "<style scoped>\n",
       "    .dataframe tbody tr th:only-of-type {\n",
       "        vertical-align: middle;\n",
       "    }\n",
       "\n",
       "    .dataframe tbody tr th {\n",
       "        vertical-align: top;\n",
       "    }\n",
       "\n",
       "    .dataframe thead th {\n",
       "        text-align: right;\n",
       "    }\n",
       "</style>\n",
       "<table border=\"1\" class=\"dataframe\">\n",
       "  <thead>\n",
       "    <tr style=\"text-align: right;\">\n",
       "      <th></th>\n",
       "      <th>age</th>\n",
       "      <th>experience</th>\n",
       "    </tr>\n",
       "  </thead>\n",
       "  <tbody>\n",
       "    <tr>\n",
       "      <th>0</th>\n",
       "      <td>25</td>\n",
       "      <td>1</td>\n",
       "    </tr>\n",
       "    <tr>\n",
       "      <th>1</th>\n",
       "      <td>30</td>\n",
       "      <td>3</td>\n",
       "    </tr>\n",
       "    <tr>\n",
       "      <th>2</th>\n",
       "      <td>47</td>\n",
       "      <td>2</td>\n",
       "    </tr>\n",
       "    <tr>\n",
       "      <th>3</th>\n",
       "      <td>32</td>\n",
       "      <td>5</td>\n",
       "    </tr>\n",
       "    <tr>\n",
       "      <th>4</th>\n",
       "      <td>43</td>\n",
       "      <td>10</td>\n",
       "    </tr>\n",
       "    <tr>\n",
       "      <th>5</th>\n",
       "      <td>51</td>\n",
       "      <td>7</td>\n",
       "    </tr>\n",
       "    <tr>\n",
       "      <th>6</th>\n",
       "      <td>28</td>\n",
       "      <td>5</td>\n",
       "    </tr>\n",
       "    <tr>\n",
       "      <th>7</th>\n",
       "      <td>33</td>\n",
       "      <td>4</td>\n",
       "    </tr>\n",
       "    <tr>\n",
       "      <th>8</th>\n",
       "      <td>37</td>\n",
       "      <td>5</td>\n",
       "    </tr>\n",
       "    <tr>\n",
       "      <th>9</th>\n",
       "      <td>39</td>\n",
       "      <td>8</td>\n",
       "    </tr>\n",
       "    <tr>\n",
       "      <th>10</th>\n",
       "      <td>29</td>\n",
       "      <td>1</td>\n",
       "    </tr>\n",
       "    <tr>\n",
       "      <th>11</th>\n",
       "      <td>47</td>\n",
       "      <td>9</td>\n",
       "    </tr>\n",
       "    <tr>\n",
       "      <th>12</th>\n",
       "      <td>54</td>\n",
       "      <td>5</td>\n",
       "    </tr>\n",
       "    <tr>\n",
       "      <th>13</th>\n",
       "      <td>51</td>\n",
       "      <td>4</td>\n",
       "    </tr>\n",
       "    <tr>\n",
       "      <th>14</th>\n",
       "      <td>44</td>\n",
       "      <td>12</td>\n",
       "    </tr>\n",
       "    <tr>\n",
       "      <th>15</th>\n",
       "      <td>41</td>\n",
       "      <td>6</td>\n",
       "    </tr>\n",
       "    <tr>\n",
       "      <th>16</th>\n",
       "      <td>58</td>\n",
       "      <td>17</td>\n",
       "    </tr>\n",
       "    <tr>\n",
       "      <th>17</th>\n",
       "      <td>23</td>\n",
       "      <td>1</td>\n",
       "    </tr>\n",
       "    <tr>\n",
       "      <th>18</th>\n",
       "      <td>44</td>\n",
       "      <td>9</td>\n",
       "    </tr>\n",
       "    <tr>\n",
       "      <th>19</th>\n",
       "      <td>37</td>\n",
       "      <td>10</td>\n",
       "    </tr>\n",
       "  </tbody>\n",
       "</table>\n",
       "</div>"
      ],
      "text/plain": [
       "    age  experience\n",
       "0    25           1\n",
       "1    30           3\n",
       "2    47           2\n",
       "3    32           5\n",
       "4    43          10\n",
       "5    51           7\n",
       "6    28           5\n",
       "7    33           4\n",
       "8    37           5\n",
       "9    39           8\n",
       "10   29           1\n",
       "11   47           9\n",
       "12   54           5\n",
       "13   51           4\n",
       "14   44          12\n",
       "15   41           6\n",
       "16   58          17\n",
       "17   23           1\n",
       "18   44           9\n",
       "19   37          10"
      ]
     },
     "execution_count": 6,
     "metadata": {},
     "output_type": "execute_result"
    }
   ],
   "source": [
    "# Displays the dataset features X to the screen\n",
    "X = df\n",
    "\n",
    "X"
   ]
  },
  {
   "cell_type": "markdown",
   "id": "705bcf39",
   "metadata": {},
   "source": [
    "# 3. Normalise the Data"
   ]
  },
  {
   "cell_type": "code",
   "execution_count": 7,
   "id": "d24aec5b",
   "metadata": {},
   "outputs": [
    {
     "data": {
      "text/plain": [
       "['age', 'experience']"
      ]
     },
     "execution_count": 7,
     "metadata": {},
     "output_type": "execute_result"
    }
   ],
   "source": [
    "# Convert column names to a list\n",
    "list_numerical = X.columns.tolist()\n",
    "\n",
    "list_numerical"
   ]
  },
  {
   "cell_type": "code",
   "execution_count": 8,
   "id": "4472ba30",
   "metadata": {},
   "outputs": [],
   "source": [
    "# Python method to normalise the features X of the dataset \n",
    "def get_scale(list_numerical, X):\n",
    "    \n",
    "    # Import the StandardScaler object from ScikitLearn to normalise the data\n",
    "    from sklearn.preprocessing import StandardScaler\n",
    "    \n",
    "    # Creates the StandardScaler object from ScikitLearn\n",
    "    scaler = StandardScaler().fit(X[list_numerical]) \n",
    "\n",
    "    # Fits the normalisation to the dataset features X\n",
    "    X[list_numerical] = scaler.transform(X[list_numerical])\n",
    "\n",
    "    # Returns the normalised dataset features X\n",
    "    return X"
   ]
  },
  {
   "cell_type": "code",
   "execution_count": 9,
   "id": "ff1f8a6c",
   "metadata": {},
   "outputs": [
    {
     "data": {
      "text/html": [
       "<div>\n",
       "<style scoped>\n",
       "    .dataframe tbody tr th:only-of-type {\n",
       "        vertical-align: middle;\n",
       "    }\n",
       "\n",
       "    .dataframe tbody tr th {\n",
       "        vertical-align: top;\n",
       "    }\n",
       "\n",
       "    .dataframe thead th {\n",
       "        text-align: right;\n",
       "    }\n",
       "</style>\n",
       "<table border=\"1\" class=\"dataframe\">\n",
       "  <thead>\n",
       "    <tr style=\"text-align: right;\">\n",
       "      <th></th>\n",
       "      <th>age</th>\n",
       "      <th>experience</th>\n",
       "    </tr>\n",
       "  </thead>\n",
       "  <tbody>\n",
       "    <tr>\n",
       "      <th>0</th>\n",
       "      <td>-1.498903</td>\n",
       "      <td>-1.293548</td>\n",
       "    </tr>\n",
       "    <tr>\n",
       "      <th>1</th>\n",
       "      <td>-0.987332</td>\n",
       "      <td>-0.796030</td>\n",
       "    </tr>\n",
       "    <tr>\n",
       "      <th>2</th>\n",
       "      <td>0.752009</td>\n",
       "      <td>-1.044789</td>\n",
       "    </tr>\n",
       "    <tr>\n",
       "      <th>3</th>\n",
       "      <td>-0.782703</td>\n",
       "      <td>-0.298511</td>\n",
       "    </tr>\n",
       "    <tr>\n",
       "      <th>4</th>\n",
       "      <td>0.342752</td>\n",
       "      <td>0.945285</td>\n",
       "    </tr>\n",
       "    <tr>\n",
       "      <th>5</th>\n",
       "      <td>1.161266</td>\n",
       "      <td>0.199007</td>\n",
       "    </tr>\n",
       "    <tr>\n",
       "      <th>6</th>\n",
       "      <td>-1.191960</td>\n",
       "      <td>-0.298511</td>\n",
       "    </tr>\n",
       "    <tr>\n",
       "      <th>7</th>\n",
       "      <td>-0.680389</td>\n",
       "      <td>-0.547270</td>\n",
       "    </tr>\n",
       "    <tr>\n",
       "      <th>8</th>\n",
       "      <td>-0.271133</td>\n",
       "      <td>-0.298511</td>\n",
       "    </tr>\n",
       "    <tr>\n",
       "      <th>9</th>\n",
       "      <td>-0.066504</td>\n",
       "      <td>0.447767</td>\n",
       "    </tr>\n",
       "    <tr>\n",
       "      <th>10</th>\n",
       "      <td>-1.089646</td>\n",
       "      <td>-1.293548</td>\n",
       "    </tr>\n",
       "    <tr>\n",
       "      <th>11</th>\n",
       "      <td>0.752009</td>\n",
       "      <td>0.696526</td>\n",
       "    </tr>\n",
       "    <tr>\n",
       "      <th>12</th>\n",
       "      <td>1.468208</td>\n",
       "      <td>-0.298511</td>\n",
       "    </tr>\n",
       "    <tr>\n",
       "      <th>13</th>\n",
       "      <td>1.161266</td>\n",
       "      <td>-0.547270</td>\n",
       "    </tr>\n",
       "    <tr>\n",
       "      <th>14</th>\n",
       "      <td>0.445067</td>\n",
       "      <td>1.442804</td>\n",
       "    </tr>\n",
       "    <tr>\n",
       "      <th>15</th>\n",
       "      <td>0.138124</td>\n",
       "      <td>-0.049752</td>\n",
       "    </tr>\n",
       "    <tr>\n",
       "      <th>16</th>\n",
       "      <td>1.877465</td>\n",
       "      <td>2.686600</td>\n",
       "    </tr>\n",
       "    <tr>\n",
       "      <th>17</th>\n",
       "      <td>-1.703531</td>\n",
       "      <td>-1.293548</td>\n",
       "    </tr>\n",
       "    <tr>\n",
       "      <th>18</th>\n",
       "      <td>0.445067</td>\n",
       "      <td>0.696526</td>\n",
       "    </tr>\n",
       "    <tr>\n",
       "      <th>19</th>\n",
       "      <td>-0.271133</td>\n",
       "      <td>0.945285</td>\n",
       "    </tr>\n",
       "  </tbody>\n",
       "</table>\n",
       "</div>"
      ],
      "text/plain": [
       "         age  experience\n",
       "0  -1.498903   -1.293548\n",
       "1  -0.987332   -0.796030\n",
       "2   0.752009   -1.044789\n",
       "3  -0.782703   -0.298511\n",
       "4   0.342752    0.945285\n",
       "5   1.161266    0.199007\n",
       "6  -1.191960   -0.298511\n",
       "7  -0.680389   -0.547270\n",
       "8  -0.271133   -0.298511\n",
       "9  -0.066504    0.447767\n",
       "10 -1.089646   -1.293548\n",
       "11  0.752009    0.696526\n",
       "12  1.468208   -0.298511\n",
       "13  1.161266   -0.547270\n",
       "14  0.445067    1.442804\n",
       "15  0.138124   -0.049752\n",
       "16  1.877465    2.686600\n",
       "17 -1.703531   -1.293548\n",
       "18  0.445067    0.696526\n",
       "19 -0.271133    0.945285"
      ]
     },
     "execution_count": 9,
     "metadata": {},
     "output_type": "execute_result"
    }
   ],
   "source": [
    "# Calls the get_scale Python method to normalise the dataset features X\n",
    "X = get_scale(list_numerical, X)\n",
    "\n",
    "X"
   ]
  },
  {
   "cell_type": "markdown",
   "id": "4cdb9a3f",
   "metadata": {},
   "source": [
    "# 4. Train Test Split"
   ]
  },
  {
   "cell_type": "code",
   "execution_count": 10,
   "id": "1bc613f2",
   "metadata": {},
   "outputs": [
    {
     "data": {
      "text/html": [
       "<div>\n",
       "<style scoped>\n",
       "    .dataframe tbody tr th:only-of-type {\n",
       "        vertical-align: middle;\n",
       "    }\n",
       "\n",
       "    .dataframe tbody tr th {\n",
       "        vertical-align: top;\n",
       "    }\n",
       "\n",
       "    .dataframe thead th {\n",
       "        text-align: right;\n",
       "    }\n",
       "</style>\n",
       "<table border=\"1\" class=\"dataframe\">\n",
       "  <thead>\n",
       "    <tr style=\"text-align: right;\">\n",
       "      <th></th>\n",
       "      <th>age</th>\n",
       "      <th>experience</th>\n",
       "    </tr>\n",
       "  </thead>\n",
       "  <tbody>\n",
       "    <tr>\n",
       "      <th>8</th>\n",
       "      <td>-0.271133</td>\n",
       "      <td>-0.298511</td>\n",
       "    </tr>\n",
       "    <tr>\n",
       "      <th>5</th>\n",
       "      <td>1.161266</td>\n",
       "      <td>0.199007</td>\n",
       "    </tr>\n",
       "    <tr>\n",
       "      <th>11</th>\n",
       "      <td>0.752009</td>\n",
       "      <td>0.696526</td>\n",
       "    </tr>\n",
       "    <tr>\n",
       "      <th>3</th>\n",
       "      <td>-0.782703</td>\n",
       "      <td>-0.298511</td>\n",
       "    </tr>\n",
       "    <tr>\n",
       "      <th>18</th>\n",
       "      <td>0.445067</td>\n",
       "      <td>0.696526</td>\n",
       "    </tr>\n",
       "    <tr>\n",
       "      <th>16</th>\n",
       "      <td>1.877465</td>\n",
       "      <td>2.686600</td>\n",
       "    </tr>\n",
       "    <tr>\n",
       "      <th>13</th>\n",
       "      <td>1.161266</td>\n",
       "      <td>-0.547270</td>\n",
       "    </tr>\n",
       "    <tr>\n",
       "      <th>2</th>\n",
       "      <td>0.752009</td>\n",
       "      <td>-1.044789</td>\n",
       "    </tr>\n",
       "    <tr>\n",
       "      <th>9</th>\n",
       "      <td>-0.066504</td>\n",
       "      <td>0.447767</td>\n",
       "    </tr>\n",
       "    <tr>\n",
       "      <th>19</th>\n",
       "      <td>-0.271133</td>\n",
       "      <td>0.945285</td>\n",
       "    </tr>\n",
       "    <tr>\n",
       "      <th>4</th>\n",
       "      <td>0.342752</td>\n",
       "      <td>0.945285</td>\n",
       "    </tr>\n",
       "    <tr>\n",
       "      <th>12</th>\n",
       "      <td>1.468208</td>\n",
       "      <td>-0.298511</td>\n",
       "    </tr>\n",
       "    <tr>\n",
       "      <th>7</th>\n",
       "      <td>-0.680389</td>\n",
       "      <td>-0.547270</td>\n",
       "    </tr>\n",
       "    <tr>\n",
       "      <th>10</th>\n",
       "      <td>-1.089646</td>\n",
       "      <td>-1.293548</td>\n",
       "    </tr>\n",
       "    <tr>\n",
       "      <th>14</th>\n",
       "      <td>0.445067</td>\n",
       "      <td>1.442804</td>\n",
       "    </tr>\n",
       "    <tr>\n",
       "      <th>6</th>\n",
       "      <td>-1.191960</td>\n",
       "      <td>-0.298511</td>\n",
       "    </tr>\n",
       "  </tbody>\n",
       "</table>\n",
       "</div>"
      ],
      "text/plain": [
       "         age  experience\n",
       "8  -0.271133   -0.298511\n",
       "5   1.161266    0.199007\n",
       "11  0.752009    0.696526\n",
       "3  -0.782703   -0.298511\n",
       "18  0.445067    0.696526\n",
       "16  1.877465    2.686600\n",
       "13  1.161266   -0.547270\n",
       "2   0.752009   -1.044789\n",
       "9  -0.066504    0.447767\n",
       "19 -0.271133    0.945285\n",
       "4   0.342752    0.945285\n",
       "12  1.468208   -0.298511\n",
       "7  -0.680389   -0.547270\n",
       "10 -1.089646   -1.293548\n",
       "14  0.445067    1.442804\n",
       "6  -1.191960   -0.298511"
      ]
     },
     "execution_count": 10,
     "metadata": {},
     "output_type": "execute_result"
    }
   ],
   "source": [
    "# Imports the train test split method from ScikitLearn\n",
    "from sklearn.model_selection import train_test_split\n",
    "\n",
    "# Carry out a train, test split from ScikitLearn\n",
    "X_train, X_test, y_train, y_test = train_test_split(X, y, test_size=0.2, random_state=42)\n",
    "\n",
    "# Prints out the X_train features to the screen\n",
    "X_train"
   ]
  },
  {
   "cell_type": "code",
   "execution_count": 11,
   "id": "0c719f2c",
   "metadata": {},
   "outputs": [
    {
     "data": {
      "text/plain": [
       "8     40250\n",
       "5     41630\n",
       "11    46110\n",
       "3     40130\n",
       "18    44190\n",
       "16    63600\n",
       "13    34800\n",
       "2     31580\n",
       "9     45150\n",
       "19    48700\n",
       "4     47830\n",
       "12    36720\n",
       "7     37650\n",
       "10    27840\n",
       "14    51300\n",
       "6     41340\n",
       "Name: income, dtype: int64"
      ]
     },
     "execution_count": 11,
     "metadata": {},
     "output_type": "execute_result"
    }
   ],
   "source": [
    "# Prints out the y_train targets to the screen\n",
    "y_train"
   ]
  },
  {
   "cell_type": "code",
   "execution_count": 12,
   "id": "040354c3",
   "metadata": {},
   "outputs": [
    {
     "data": {
      "text/html": [
       "<div>\n",
       "<style scoped>\n",
       "    .dataframe tbody tr th:only-of-type {\n",
       "        vertical-align: middle;\n",
       "    }\n",
       "\n",
       "    .dataframe tbody tr th {\n",
       "        vertical-align: top;\n",
       "    }\n",
       "\n",
       "    .dataframe thead th {\n",
       "        text-align: right;\n",
       "    }\n",
       "</style>\n",
       "<table border=\"1\" class=\"dataframe\">\n",
       "  <thead>\n",
       "    <tr style=\"text-align: right;\">\n",
       "      <th></th>\n",
       "      <th>age</th>\n",
       "      <th>experience</th>\n",
       "    </tr>\n",
       "  </thead>\n",
       "  <tbody>\n",
       "    <tr>\n",
       "      <th>0</th>\n",
       "      <td>-1.498903</td>\n",
       "      <td>-1.293548</td>\n",
       "    </tr>\n",
       "    <tr>\n",
       "      <th>17</th>\n",
       "      <td>-1.703531</td>\n",
       "      <td>-1.293548</td>\n",
       "    </tr>\n",
       "    <tr>\n",
       "      <th>15</th>\n",
       "      <td>0.138124</td>\n",
       "      <td>-0.049752</td>\n",
       "    </tr>\n",
       "    <tr>\n",
       "      <th>1</th>\n",
       "      <td>-0.987332</td>\n",
       "      <td>-0.796030</td>\n",
       "    </tr>\n",
       "  </tbody>\n",
       "</table>\n",
       "</div>"
      ],
      "text/plain": [
       "         age  experience\n",
       "0  -1.498903   -1.293548\n",
       "17 -1.703531   -1.293548\n",
       "15  0.138124   -0.049752\n",
       "1  -0.987332   -0.796030"
      ]
     },
     "execution_count": 12,
     "metadata": {},
     "output_type": "execute_result"
    }
   ],
   "source": [
    "# Prints out the X_test features to the screen\n",
    "X_test"
   ]
  },
  {
   "cell_type": "code",
   "execution_count": 13,
   "id": "1e442781",
   "metadata": {},
   "outputs": [
    {
     "data": {
      "text/plain": [
       "0     30450\n",
       "17    30870\n",
       "15    38900\n",
       "1     35670\n",
       "Name: income, dtype: int64"
      ]
     },
     "execution_count": 13,
     "metadata": {},
     "output_type": "execute_result"
    }
   ],
   "source": [
    "# Prints out the y_test targets to the screen\n",
    "y_test"
   ]
  },
  {
   "cell_type": "markdown",
   "id": "c65eba4f",
   "metadata": {},
   "source": [
    "# 5. Train the Lasso Regression Model"
   ]
  },
  {
   "cell_type": "code",
   "execution_count": 14,
   "id": "4a48a6d1",
   "metadata": {},
   "outputs": [],
   "source": [
    "# Stores the input the parameters to the Lasso regression algorithm\n",
    "parameters = {\n",
    "    \"l\" : 0.1,\n",
    "    \"lr\" : 0.1,\n",
    "    \"n_iters\" : 700\n",
    "}\n",
    "\n",
    "# Creates the Lasso Regression algorithm and stores it in the model object\n",
    "model = Lasso(**parameters)"
   ]
  },
  {
   "cell_type": "code",
   "execution_count": 15,
   "id": "524c154a",
   "metadata": {},
   "outputs": [
    {
     "name": "stdout",
     "output_type": "stream",
     "text": [
      "The Cost in iteration 100:\t 877251.2670377009\n",
      "The Cost in iteration 200:\t 874800.7225684733\n",
      "The Cost in iteration 300:\t 874800.5295188489\n",
      "The Cost in iteration 400:\t 874800.5295035316\n",
      "The Cost in iteration 500:\t 874800.5295035315\n",
      "The Cost in iteration 600:\t 874800.5295035309\n",
      "The Cost in iteration 700:\t 874800.5295035329\n",
      "Training Complete\n"
     ]
    }
   ],
   "source": [
    "# Fits the data to the Lasso regression algorithm during training\n",
    "model.fit(X_train, y_train)"
   ]
  },
  {
   "cell_type": "markdown",
   "id": "376ca364",
   "metadata": {},
   "source": [
    "# 6. Make Predictions on the Test Dataset"
   ]
  },
  {
   "cell_type": "code",
   "execution_count": 16,
   "id": "bfceae6c",
   "metadata": {},
   "outputs": [
    {
     "data": {
      "text/plain": [
       "array([[31093.12479731],\n",
       "       [31295.19156223],\n",
       "       [40250.38191698],\n",
       "       [34897.47438062]])"
      ]
     },
     "execution_count": 16,
     "metadata": {},
     "output_type": "execute_result"
    }
   ],
   "source": [
    "# Makes predictions on the test dataset X_test\n",
    "y_pred = model.predict(X_test)\n",
    "\n",
    "y_pred"
   ]
  },
  {
   "cell_type": "code",
   "execution_count": 17,
   "id": "65129c18",
   "metadata": {},
   "outputs": [
    {
     "data": {
      "text/plain": [
       "array([31093.12479731, 31295.19156223, 40250.38191698, 34897.47438062])"
      ]
     },
     "execution_count": 17,
     "metadata": {},
     "output_type": "execute_result"
    }
   ],
   "source": [
    "# Flattens the y_test 2D array to 1D and stores it in the y variable\n",
    "y_pred = y_pred.flatten()\n",
    "\n",
    "y_pred"
   ]
  },
  {
   "cell_type": "code",
   "execution_count": 18,
   "id": "a4b6bce4",
   "metadata": {},
   "outputs": [
    {
     "data": {
      "text/plain": [
       "0     30450\n",
       "17    30870\n",
       "15    38900\n",
       "1     35670\n",
       "Name: income, dtype: int64"
      ]
     },
     "execution_count": 18,
     "metadata": {},
     "output_type": "execute_result"
    }
   ],
   "source": [
    "# Prints out the y_test variable to the screen\n",
    "y_test"
   ]
  },
  {
   "cell_type": "code",
   "execution_count": 19,
   "id": "c488979b",
   "metadata": {},
   "outputs": [
    {
     "data": {
      "text/plain": [
       "array([30450, 30870, 38900, 35670])"
      ]
     },
     "execution_count": 19,
     "metadata": {},
     "output_type": "execute_result"
    }
   ],
   "source": [
    "# Flattens the y_test 2D array to 1D and stores it in the y variable\n",
    "y = y_test.values.flatten()\n",
    "\n",
    "y"
   ]
  },
  {
   "cell_type": "markdown",
   "id": "7b1c2b33",
   "metadata": {},
   "source": [
    "# 7. PLCC, SRCC and KRCC Correlation Performance Metrics Method"
   ]
  },
  {
   "cell_type": "code",
   "execution_count": 20,
   "id": "5d241881",
   "metadata": {},
   "outputs": [],
   "source": [
    "# Python method to calculate correlation coefficient metrics\n",
    "def correlation(X, y):\n",
    "    \n",
    "    # Import Scipy libraray\n",
    "    import scipy.stats\n",
    "    \n",
    "    # Calculate Pearson's Linear Correlation Coefficient with Scipy\n",
    "    PLCC = scipy.stats.pearsonr(X, y)[0]    # Pearson's r\n",
    "\n",
    "    # Calculate Spearman Rank Correlation Coefficient (SRCC) with Scipy\n",
    "    SRCC = scipy.stats.spearmanr(X, y)[0]   # Spearman's rho\n",
    "\n",
    "    # Calculate Kendalls Rank Correlation Coefficient (KRCC) with Scipy\n",
    "    KRCC = scipy.stats.kendalltau(X, y)[0]  # Kendall's tau\n",
    "    \n",
    "    # Prints out the correlation performance metric results to the screen\n",
    "    print(\"PLCC: \", PLCC)\n",
    "    print(\"SRCC: \", SRCC)\n",
    "    print(\"KRCC: \", KRCC)"
   ]
  },
  {
   "cell_type": "markdown",
   "id": "20723936",
   "metadata": {},
   "source": [
    "# 8. Evaluate PLCC, SRCC and KRCC Performance Metrics"
   ]
  },
  {
   "cell_type": "code",
   "execution_count": 21,
   "id": "2fb6a0ee",
   "metadata": {},
   "outputs": [
    {
     "name": "stdout",
     "output_type": "stream",
     "text": [
      "PLCC:  0.9791237866482259\n",
      "SRCC:  1.0\n",
      "KRCC:  1.0\n"
     ]
    }
   ],
   "source": [
    "# Calls the correlation coefficient Python method to calculate PLCC, SRCC, and KRCC\n",
    "# with SciPy\n",
    "correlation(y_pred, y)"
   ]
  },
  {
   "cell_type": "markdown",
   "id": "ec10e864",
   "metadata": {},
   "source": [
    "# Root Mean Square Error (RMSE)"
   ]
  },
  {
   "cell_type": "code",
   "execution_count": 22,
   "id": "b6d45e7f",
   "metadata": {},
   "outputs": [
    {
     "data": {
      "text/plain": [
       "868.1481042727627"
      ]
     },
     "execution_count": 22,
     "metadata": {},
     "output_type": "execute_result"
    }
   ],
   "source": [
    "# Imports the mean_squared_error method from ScikitLearn\n",
    "from sklearn.metrics import mean_squared_error\n",
    "\n",
    "# Calls the Mean Squared Error method from ScikitLearn\n",
    "rmse = mean_squared_error(y_pred, y)\n",
    "\n",
    "# Prints out the RMSE value to the screen\n",
    "np.sqrt(rmse)"
   ]
  },
  {
   "cell_type": "markdown",
   "id": "a27c0a56",
   "metadata": {},
   "source": [
    "# R2 Score"
   ]
  },
  {
   "cell_type": "code",
   "execution_count": 23,
   "id": "a2f23a0a",
   "metadata": {},
   "outputs": [
    {
     "data": {
      "text/plain": [
       "0.9452353084209956"
      ]
     },
     "execution_count": 23,
     "metadata": {},
     "output_type": "execute_result"
    }
   ],
   "source": [
    "# Imports the r2_score method from ScikitLearn\n",
    "from sklearn.metrics import r2_score\n",
    "\n",
    "# Calls the R2 Score method from ScikitLearn\n",
    "r2 = r2_score(y_pred, y)\n",
    "\n",
    "# Prints out the R2 Score value to the screen\n",
    "r2"
   ]
  },
  {
   "cell_type": "markdown",
   "id": "250e922f",
   "metadata": {},
   "source": [
    "# 9. Test on the ScikitLearn Lasso Regression Model\n",
    "\n",
    "Lasso Regression ScikitLearn Documentation Link:\n",
    "\n",
    "https://scikit-learn.org/stable/modules/generated/sklearn.linear_model.Lasso.html"
   ]
  },
  {
   "cell_type": "markdown",
   "id": "eb0a909a",
   "metadata": {},
   "source": [
    "## Train the Model"
   ]
  },
  {
   "cell_type": "code",
   "execution_count": 24,
   "id": "35f8f631",
   "metadata": {},
   "outputs": [],
   "source": [
    "# Imports the Lasso Regression model from ScikitLearn\n",
    "from sklearn.linear_model import Lasso\n",
    "\n",
    "# Trains the ScikitLearn Lasso Regression model\n",
    "model = Lasso(alpha=0.1).fit(X_train, y_train)"
   ]
  },
  {
   "cell_type": "markdown",
   "id": "71173fb7",
   "metadata": {},
   "source": [
    "# 10. Make Predictions"
   ]
  },
  {
   "cell_type": "code",
   "execution_count": 25,
   "id": "3a6e5c64",
   "metadata": {},
   "outputs": [
    {
     "data": {
      "text/plain": [
       "array([31093.28218034, 31295.35328037, 40250.48790683, 34897.61424096])"
      ]
     },
     "execution_count": 25,
     "metadata": {},
     "output_type": "execute_result"
    }
   ],
   "source": [
    "# Makes predictions on the Linear Regression model\n",
    "y_pred = model.predict(X_test)\n",
    "\n",
    "y_pred"
   ]
  },
  {
   "cell_type": "code",
   "execution_count": 26,
   "id": "d0dc3b9f",
   "metadata": {},
   "outputs": [
    {
     "data": {
      "text/plain": [
       "array([31093.28218034, 31295.35328037, 40250.48790683, 34897.61424096])"
      ]
     },
     "execution_count": 26,
     "metadata": {},
     "output_type": "execute_result"
    }
   ],
   "source": [
    "# Flattens the 2D pred array to 1D from the model and stores it in the flat Python variable\n",
    "flat = y_pred.flatten()\n",
    "\n",
    "flat"
   ]
  },
  {
   "cell_type": "code",
   "execution_count": 27,
   "id": "05749b99",
   "metadata": {},
   "outputs": [
    {
     "data": {
      "text/plain": [
       "0     30450\n",
       "17    30870\n",
       "15    38900\n",
       "1     35670\n",
       "Name: income, dtype: int64"
      ]
     },
     "execution_count": 27,
     "metadata": {},
     "output_type": "execute_result"
    }
   ],
   "source": [
    "# Prints out the y_test variable to the screen\n",
    "y_test"
   ]
  },
  {
   "cell_type": "markdown",
   "id": "a8c93e37",
   "metadata": {},
   "source": [
    "# 11. Test the ScikitLearn Lasso Regression Model"
   ]
  },
  {
   "cell_type": "code",
   "execution_count": 28,
   "id": "e48db760",
   "metadata": {},
   "outputs": [
    {
     "name": "stdout",
     "output_type": "stream",
     "text": [
      "PLCC:  0.9791238509822464\n",
      "SRCC:  1.0\n",
      "KRCC:  1.0\n"
     ]
    }
   ],
   "source": [
    "# Calls the correlation coefficient Python method to calculate PLCC, SRCC, and KRCC\n",
    "# with SciPy\n",
    "correlation(flat, y)"
   ]
  },
  {
   "cell_type": "markdown",
   "id": "c65eff0c",
   "metadata": {},
   "source": [
    "# Root Mean Square Error (RMSE)"
   ]
  },
  {
   "cell_type": "code",
   "execution_count": 29,
   "id": "77d32e24",
   "metadata": {},
   "outputs": [
    {
     "data": {
      "text/plain": [
       "868.2071647849484"
      ]
     },
     "execution_count": 29,
     "metadata": {},
     "output_type": "execute_result"
    }
   ],
   "source": [
    "# Imports the mean_squared_error method from ScikitLearn\n",
    "from sklearn.metrics import mean_squared_error\n",
    "\n",
    "# Calls the Mean Squared Error method from ScikitLearn\n",
    "rmse = mean_squared_error(flat, y)\n",
    "\n",
    "# Prints out the RMSE value to the screen\n",
    "np.sqrt(rmse)"
   ]
  },
  {
   "cell_type": "markdown",
   "id": "bd5f3968",
   "metadata": {},
   "source": [
    "# R2 Score"
   ]
  },
  {
   "cell_type": "code",
   "execution_count": 30,
   "id": "fdca5959",
   "metadata": {},
   "outputs": [
    {
     "data": {
      "text/plain": [
       "0.9452272123280635"
      ]
     },
     "execution_count": 30,
     "metadata": {},
     "output_type": "execute_result"
    }
   ],
   "source": [
    "# Imports the r2_score method from ScikitLearn\n",
    "from sklearn.metrics import r2_score\n",
    "\n",
    "# Calls the R2 Score method from ScikitLearn\n",
    "r2 = r2_score(flat, y)\n",
    "\n",
    "# Prints out the R2 Score value to the screen\n",
    "r2"
   ]
  },
  {
   "cell_type": "markdown",
   "id": "316c3271",
   "metadata": {},
   "source": [
    "# 12. Display Jupyter Notebook Python Variables"
   ]
  },
  {
   "cell_type": "code",
   "execution_count": 31,
   "id": "8b0af864",
   "metadata": {},
   "outputs": [
    {
     "name": "stdout",
     "output_type": "stream",
     "text": [
      "Variable             Type         Data/Info\n",
      "-------------------------------------------\n",
      "Lasso                ABCMeta      <class 'sklearn.linear_mo<...>oordinate_descent.Lasso'>\n",
      "LassoPenalty         type         <class '__main__.LassoPenalty'>\n",
      "Regression           type         <class '__main__.Regression'>\n",
      "X                    DataFrame             age  experience\\<...>n19 -0.271133    0.945285\n",
      "X_test               DataFrame             age  experience\\<...>n1  -0.987332   -0.796030\n",
      "X_train              DataFrame             age  experience\\<...>n6  -1.191960   -0.298511\n",
      "correlation          function     <function correlation at 0x7ad9d7dc0900>\n",
      "df                   DataFrame             age  experience\\<...>n19 -0.271133    0.945285\n",
      "flat                 ndarray      4: 4 elems, type `float64`, 32 bytes\n",
      "get_scale            function     <function get_scale at 0x7ad9dc561760>\n",
      "list_numerical       list         n=2\n",
      "mean_squared_error   function     <function mean_squared_error at 0x7ad9d7d45d00>\n",
      "model                Lasso        Lasso(alpha=0.1)\n",
      "np                   module       <module 'numpy' from '/ho<...>kages/numpy/__init__.py'>\n",
      "parameters           dict         n=3\n",
      "pd                   module       <module 'pandas' from '/h<...>ages/pandas/__init__.py'>\n",
      "r2                   float64      0.9452272123280635\n",
      "r2_score             function     <function r2_score at 0x7ad9d7d46520>\n",
      "rmse                 float64      753783.6809839185\n",
      "train_test_split     function     <function train_test_split at 0x7ad9d7d67a60>\n",
      "y                    ndarray      4: 4 elems, type `int64`, 32 bytes\n",
      "y_pred               ndarray      4: 4 elems, type `float64`, 32 bytes\n",
      "y_test               Series       0     30450\\n17    30870\\<...>ame: income, dtype: int64\n",
      "y_train              Series       8     40250\\n5     41630\\<...>ame: income, dtype: int64\n"
     ]
    }
   ],
   "source": [
    "# Prints out all the Python variables from the Jupyter Notebook\n",
    "%whos"
   ]
  },
  {
   "cell_type": "code",
   "execution_count": null,
   "id": "15cedbbc",
   "metadata": {},
   "outputs": [],
   "source": []
  }
 ],
 "metadata": {
  "kernelspec": {
   "display_name": "Python 3 (ipykernel)",
   "language": "python",
   "name": "python3"
  },
  "language_info": {
   "codemirror_mode": {
    "name": "ipython",
    "version": 3
   },
   "file_extension": ".py",
   "mimetype": "text/x-python",
   "name": "python",
   "nbconvert_exporter": "python",
   "pygments_lexer": "ipython3",
   "version": "3.11.5"
  }
 },
 "nbformat": 4,
 "nbformat_minor": 5
}
